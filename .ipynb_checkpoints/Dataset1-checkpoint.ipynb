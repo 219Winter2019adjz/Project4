{
 "cells": [
  {
   "cell_type": "code",
   "execution_count": 2,
   "metadata": {},
   "outputs": [],
   "source": [
    "import numpy as np\n",
    "import pandas as pd\n",
    "from numpy import genfromtxt\n",
    "import matplotlib.pyplot as plt"
   ]
  },
  {
   "cell_type": "markdown",
   "metadata": {},
   "source": [
    "## Dataset 1"
   ]
  },
  {
   "cell_type": "code",
   "execution_count": 3,
   "metadata": {},
   "outputs": [],
   "source": [
    "# Loading the dataset\n",
    "data = pd.read_csv('datasets/network_backup_dataset.csv')\n",
    "\n",
    "# creating a pandas dataframe\n",
    "df = pd.DataFrame(data)\n",
    "\n",
    "df_np = df.to_numpy()\n",
    "\n",
    "# Converting 'o' dtype to 'str'\n",
    "# df['Day of Week'] = df['Day of Week'].astype('str') \n"
   ]
  },
  {
   "cell_type": "code",
   "execution_count": 4,
   "metadata": {},
   "outputs": [],
   "source": [
    "Week_idx = df.iloc[:, [0]]\n",
    "Day = df.iloc[:, [1]]\n",
    "bkp_start_time = df.iloc[:, [2]]\n",
    "workflow_ID = df.iloc[:, [3]]\n",
    "File_name = df.iloc[:, [4]]\n",
    "bkp_size = df.iloc[:, [5]]\n",
    "bkp_time = df.iloc[:, [6]]"
   ]
  },
  {
   "cell_type": "code",
   "execution_count": 5,
   "metadata": {},
   "outputs": [],
   "source": [
    "#Converting all of the above columns to numpy arrays\n",
    "Week_idx = np.concatenate(Week_idx.to_numpy(), axis=0)\n",
    "Day = np.concatenate(Day.to_numpy(), axis=0)\n",
    "bkp_start_time = np.concatenate(bkp_start_time.to_numpy(), axis=0)\n",
    "workflow_ID = np.concatenate(workflow_ID.to_numpy(), axis=0)\n",
    "File_name = np.concatenate(File_name.to_numpy(), axis=0)\n",
    "bkp_size = np.concatenate(bkp_size.to_numpy(), axis=0)\n",
    "bkp_time = np.concatenate(bkp_time.to_numpy(), axis=0)\n"
   ]
  },
  {
   "cell_type": "code",
   "execution_count": 6,
   "metadata": {},
   "outputs": [
    {
     "name": "stdout",
     "output_type": "stream",
     "text": [
      "Twenty Day index: 3537\n"
     ]
    }
   ],
   "source": [
    "# Finding the end of 20 day period\n",
    "i = 0\n",
    "j = 0\n",
    "while i < len(Week_idx):\n",
    "    if (Week_idx[i] == 3) and (Day[i] == 'Sunday'):\n",
    "        twenty_days = i - 1\n",
    "        break\n",
    "    i = i + 1\n",
    "\n",
    "print(\"Twenty Day index: {}\".format(twenty_days))"
   ]
  },
  {
   "cell_type": "code",
   "execution_count": 7,
   "metadata": {},
   "outputs": [],
   "source": [
    "# Calculating number of days\n",
    "i = 0\n",
    "j = 1\n",
    "current = Day[0]\n",
    "day_idx = np.zeros(len(Week_idx))\n",
    "while i < len(Week_idx):\n",
    "    day_idx[i] = j\n",
    "    if Day[i] != current:\n",
    "        j = j + 1\n",
    "        current = Day[i]\n",
    "    if j == 106:\n",
    "        break\n",
    "    i = i + 1\n",
    "        "
   ]
  },
  {
   "cell_type": "code",
   "execution_count": 8,
   "metadata": {},
   "outputs": [
    {
     "data": {
      "text/plain": [
       "<matplotlib.legend.Legend at 0x112526dd8>"
      ]
     },
     "execution_count": 8,
     "metadata": {},
     "output_type": "execute_result"
    },
    {
     "data": {
      "image/png": "[encoded data removed]",
      "text/plain": [
       "<Figure size 432x288 with 1 Axes>"
      ]
     },
     "metadata": {
      "needs_background": "light"
     },
     "output_type": "display_data"
    }
   ],
   "source": [
    "# Plot for 20 days\n",
    "\n",
    "i = 0\n",
    "y_idx = np.zeros(twenty_days+1)\n",
    "colors = np.empty(twenty_days+1, dtype = str)\n",
    "w_0 = np.zeros(twenty_days+1)\n",
    "w_1 = np.zeros(twenty_days+1)\n",
    "w_2 = np.zeros(twenty_days+1)\n",
    "w_3 = np.zeros(twenty_days+1)\n",
    "w_4 = np.zeros(twenty_days+1)\n",
    "while i <= twenty_days:\n",
    "    y_idx[i] = i\n",
    "    if workflow_ID[i] == 'work_flow_0':\n",
    "        w_0[i] = bkp_size[i]\n",
    "        colors[i] = \"g\" \n",
    "    elif workflow_ID[i] == 'work_flow_1':\n",
    "        w_1[i] = bkp_size[i]\n",
    "        colors[i] = \"r\" \n",
    "    elif workflow_ID[i] == 'work_flow_2':\n",
    "        w_2[i] = bkp_size[i]\n",
    "        colors[i] = \"c\"\n",
    "    elif workflow_ID[i] == 'work_flow_3':\n",
    "        w_3[i] = bkp_size[i]\n",
    "        colors[i] = \"b\"\n",
    "    elif workflow_ID[i] == 'work_flow_4':\n",
    "        w_4[i] = bkp_size[i]\n",
    "        colors[i] = \"k\"\n",
    "    i = i + 1\n",
    "# plt.plot(y_idx, bkp_size[:twenty_days+1])\n",
    "plt.plot(day_idx[:twenty_days+1], w_0)\n",
    "plt.plot(day_idx[:twenty_days+1],w_1)\n",
    "plt.plot(day_idx[:twenty_days+1],w_2)\n",
    "plt.plot(day_idx[:twenty_days+1],w_3)\n",
    "plt.plot(day_idx[:twenty_days+1],w_4)\n",
    "plt.xticks(np.arange(21, step=1))\n",
    "plt.xlabel('Day')\n",
    "plt.ylabel('Backup Size')\n",
    "plt.legend(['work_flow_0', 'work_flow_1', 'work_flow_2', 'work_flow_3', 'work_flow_4'])"
   ]
  },
  {
   "cell_type": "code",
   "execution_count": 12,
   "metadata": {},
   "outputs": [
    {
     "data": {
      "text/plain": [
       "<matplotlib.legend.Legend at 0x115d96cc0>"
      ]
     },
     "execution_count": 12,
     "metadata": {},
     "output_type": "execute_result"
    },
    {
     "data": {
      "image/png": "[encoded data removed]",
      "text/plain": [
       "<Figure size 432x288 with 1 Axes>"
      ]
     },
     "metadata": {
      "needs_background": "light"
     },
     "output_type": "display_data"
    }
   ],
   "source": [
    "# Plot for 105 days\n",
    "\n",
    "total_idx = len(Week_idx)\n",
    "i = 0\n",
    "y_idx = np.zeros(total_idx)\n",
    "colors = np.empty(total_idx, dtype = str)\n",
    "w_0 = np.zeros(total_idx)\n",
    "w_1 = np.zeros(total_idx)\n",
    "w_2 = np.zeros(total_idx)\n",
    "w_3 = np.zeros(total_idx)\n",
    "w_4 = np.zeros(total_idx)\n",
    "while i < total_idx:\n",
    "    y_idx[i] = i\n",
    "    if workflow_ID[i] == 'work_flow_0':\n",
    "        w_0[i] = bkp_size[i]\n",
    "        colors[i] = \"g\" \n",
    "    elif workflow_ID[i] == 'work_flow_1':\n",
    "        w_1[i] = bkp_size[i]\n",
    "        colors[i] = \"r\" \n",
    "    elif workflow_ID[i] == 'work_flow_2':\n",
    "        w_2[i] = bkp_size[i]\n",
    "        colors[i] = \"c\"\n",
    "    elif workflow_ID[i] == 'work_flow_3':\n",
    "        w_3[i] = bkp_size[i]\n",
    "        colors[i] = \"b\"\n",
    "    elif workflow_ID[i] == 'work_flow_4':\n",
    "        w_4[i] = bkp_size[i]\n",
    "        colors[i] = \"k\"\n",
    "    i = i + 1\n",
    "# plt.plot(y_idx, bkp_size[:total_idx])\n",
    "plt.plot(day_idx, w_0)\n",
    "plt.plot(day_idx, w_1)\n",
    "plt.plot(day_idx, w_2)\n",
    "plt.plot(day_idx, w_3)\n",
    "plt.plot(day_idx, w_4)\n",
    "plt.xticks(np.arange(106, step=7))\n",
    "plt.xlabel('Day')\n",
    "plt.ylabel('Backup Size')\n",
    "plt.legend(['work_flow_0', 'work_flow_1', 'work_flow_2', 'work_flow_3', 'work_flow_4'])"
   ]
  },
  {
   "cell_type": "code",
   "execution_count": null,
   "metadata": {},
   "outputs": [],
   "source": []
  }
 ],
 "metadata": {
  "kernelspec": {
   "display_name": "Python 3",
   "language": "python",
   "name": "python3"
  },
  "language_info": {
   "codemirror_mode": {
    "name": "ipython",
    "version": 3
   },
   "file_extension": ".py",
   "mimetype": "text/x-python",
   "name": "python",
   "nbconvert_exporter": "python",
   "pygments_lexer": "ipython3",
   "version": "3.7.2"
  }
 },
 "nbformat": 4,
 "nbformat_minor": 2
}
