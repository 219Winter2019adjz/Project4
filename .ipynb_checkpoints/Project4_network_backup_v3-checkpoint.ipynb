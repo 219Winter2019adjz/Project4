{
 "cells": [
  {
   "cell_type": "markdown",
   "metadata": {},
   "source": [
    "Link to Overleaf doc:\n",
    "https://www.overleaf.com/1457348731wqmsfnqpynqw"
   ]
  },
  {
   "cell_type": "markdown",
   "metadata": {},
   "source": [
    "# Project 4 : Regression Analysis"
   ]
  },
  {
   "cell_type": "markdown",
   "metadata": {},
   "source": [
    "### Importing Libraries"
   ]
  },
  {
   "cell_type": "code",
   "execution_count": 1,
   "metadata": {},
   "outputs": [],
   "source": [
    "from itertools import cycle\n",
    "import numpy as np\n",
    "from matplotlib import pyplot as plt\n",
    "import pandas as pd\n",
    "import random \n",
    "random.seed(42)\n",
    "from sklearn.linear_model import LinearRegression as reg"
   ]
  },
  {
   "cell_type": "markdown",
   "metadata": {},
   "source": [
    "## Dataset 1"
   ]
  },
  {
   "cell_type": "markdown",
   "metadata": {},
   "source": [
    "### Question 1, Loading the data"
   ]
  },
  {
   "cell_type": "code",
   "execution_count": 2,
   "metadata": {},
   "outputs": [
    {
     "ename": "FileNotFoundError",
     "evalue": "File b'network_backup_dataset.csv' does not exist",
     "output_type": "error",
     "traceback": [
      "\u001b[0;31m---------------------------------------------------------------------------\u001b[0m",
      "\u001b[0;31mFileNotFoundError\u001b[0m                         Traceback (most recent call last)",
      "\u001b[0;32m<ipython-input-2-36c394e08938>\u001b[0m in \u001b[0;36m<module>\u001b[0;34m\u001b[0m\n\u001b[1;32m      1\u001b[0m \u001b[0;31m# Read data\u001b[0m\u001b[0;34m\u001b[0m\u001b[0;34m\u001b[0m\u001b[0;34m\u001b[0m\u001b[0m\n\u001b[0;32m----> 2\u001b[0;31m \u001b[0mdataset1\u001b[0m \u001b[0;34m=\u001b[0m \u001b[0mpd\u001b[0m\u001b[0;34m.\u001b[0m\u001b[0mread_csv\u001b[0m\u001b[0;34m(\u001b[0m\u001b[0;34m'network_backup_dataset.csv'\u001b[0m\u001b[0;34m)\u001b[0m\u001b[0;34m\u001b[0m\u001b[0;34m\u001b[0m\u001b[0m\n\u001b[0m",
      "\u001b[0;32m/anaconda3/lib/python3.7/site-packages/pandas/io/parsers.py\u001b[0m in \u001b[0;36mparser_f\u001b[0;34m(filepath_or_buffer, sep, delimiter, header, names, index_col, usecols, squeeze, prefix, mangle_dupe_cols, dtype, engine, converters, true_values, false_values, skipinitialspace, skiprows, nrows, na_values, keep_default_na, na_filter, verbose, skip_blank_lines, parse_dates, infer_datetime_format, keep_date_col, date_parser, dayfirst, iterator, chunksize, compression, thousands, decimal, lineterminator, quotechar, quoting, escapechar, comment, encoding, dialect, tupleize_cols, error_bad_lines, warn_bad_lines, skipfooter, doublequote, delim_whitespace, low_memory, memory_map, float_precision)\u001b[0m\n\u001b[1;32m    676\u001b[0m                     skip_blank_lines=skip_blank_lines)\n\u001b[1;32m    677\u001b[0m \u001b[0;34m\u001b[0m\u001b[0m\n\u001b[0;32m--> 678\u001b[0;31m         \u001b[0;32mreturn\u001b[0m \u001b[0m_read\u001b[0m\u001b[0;34m(\u001b[0m\u001b[0mfilepath_or_buffer\u001b[0m\u001b[0;34m,\u001b[0m \u001b[0mkwds\u001b[0m\u001b[0;34m)\u001b[0m\u001b[0;34m\u001b[0m\u001b[0;34m\u001b[0m\u001b[0m\n\u001b[0m\u001b[1;32m    679\u001b[0m \u001b[0;34m\u001b[0m\u001b[0m\n\u001b[1;32m    680\u001b[0m     \u001b[0mparser_f\u001b[0m\u001b[0;34m.\u001b[0m\u001b[0m__name__\u001b[0m \u001b[0;34m=\u001b[0m \u001b[0mname\u001b[0m\u001b[0;34m\u001b[0m\u001b[0;34m\u001b[0m\u001b[0m\n",
      "\u001b[0;32m/anaconda3/lib/python3.7/site-packages/pandas/io/parsers.py\u001b[0m in \u001b[0;36m_read\u001b[0;34m(filepath_or_buffer, kwds)\u001b[0m\n\u001b[1;32m    438\u001b[0m \u001b[0;34m\u001b[0m\u001b[0m\n\u001b[1;32m    439\u001b[0m     \u001b[0;31m# Create the parser.\u001b[0m\u001b[0;34m\u001b[0m\u001b[0;34m\u001b[0m\u001b[0;34m\u001b[0m\u001b[0m\n\u001b[0;32m--> 440\u001b[0;31m     \u001b[0mparser\u001b[0m \u001b[0;34m=\u001b[0m \u001b[0mTextFileReader\u001b[0m\u001b[0;34m(\u001b[0m\u001b[0mfilepath_or_buffer\u001b[0m\u001b[0;34m,\u001b[0m \u001b[0;34m**\u001b[0m\u001b[0mkwds\u001b[0m\u001b[0;34m)\u001b[0m\u001b[0;34m\u001b[0m\u001b[0;34m\u001b[0m\u001b[0m\n\u001b[0m\u001b[1;32m    441\u001b[0m \u001b[0;34m\u001b[0m\u001b[0m\n\u001b[1;32m    442\u001b[0m     \u001b[0;32mif\u001b[0m \u001b[0mchunksize\u001b[0m \u001b[0;32mor\u001b[0m \u001b[0miterator\u001b[0m\u001b[0;34m:\u001b[0m\u001b[0;34m\u001b[0m\u001b[0;34m\u001b[0m\u001b[0m\n",
      "\u001b[0;32m/anaconda3/lib/python3.7/site-packages/pandas/io/parsers.py\u001b[0m in \u001b[0;36m__init__\u001b[0;34m(self, f, engine, **kwds)\u001b[0m\n\u001b[1;32m    785\u001b[0m             \u001b[0mself\u001b[0m\u001b[0;34m.\u001b[0m\u001b[0moptions\u001b[0m\u001b[0;34m[\u001b[0m\u001b[0;34m'has_index_names'\u001b[0m\u001b[0;34m]\u001b[0m \u001b[0;34m=\u001b[0m \u001b[0mkwds\u001b[0m\u001b[0;34m[\u001b[0m\u001b[0;34m'has_index_names'\u001b[0m\u001b[0;34m]\u001b[0m\u001b[0;34m\u001b[0m\u001b[0;34m\u001b[0m\u001b[0m\n\u001b[1;32m    786\u001b[0m \u001b[0;34m\u001b[0m\u001b[0m\n\u001b[0;32m--> 787\u001b[0;31m         \u001b[0mself\u001b[0m\u001b[0;34m.\u001b[0m\u001b[0m_make_engine\u001b[0m\u001b[0;34m(\u001b[0m\u001b[0mself\u001b[0m\u001b[0;34m.\u001b[0m\u001b[0mengine\u001b[0m\u001b[0;34m)\u001b[0m\u001b[0;34m\u001b[0m\u001b[0;34m\u001b[0m\u001b[0m\n\u001b[0m\u001b[1;32m    788\u001b[0m \u001b[0;34m\u001b[0m\u001b[0m\n\u001b[1;32m    789\u001b[0m     \u001b[0;32mdef\u001b[0m \u001b[0mclose\u001b[0m\u001b[0;34m(\u001b[0m\u001b[0mself\u001b[0m\u001b[0;34m)\u001b[0m\u001b[0;34m:\u001b[0m\u001b[0;34m\u001b[0m\u001b[0;34m\u001b[0m\u001b[0m\n",
      "\u001b[0;32m/anaconda3/lib/python3.7/site-packages/pandas/io/parsers.py\u001b[0m in \u001b[0;36m_make_engine\u001b[0;34m(self, engine)\u001b[0m\n\u001b[1;32m   1012\u001b[0m     \u001b[0;32mdef\u001b[0m \u001b[0m_make_engine\u001b[0m\u001b[0;34m(\u001b[0m\u001b[0mself\u001b[0m\u001b[0;34m,\u001b[0m \u001b[0mengine\u001b[0m\u001b[0;34m=\u001b[0m\u001b[0;34m'c'\u001b[0m\u001b[0;34m)\u001b[0m\u001b[0;34m:\u001b[0m\u001b[0;34m\u001b[0m\u001b[0;34m\u001b[0m\u001b[0m\n\u001b[1;32m   1013\u001b[0m         \u001b[0;32mif\u001b[0m \u001b[0mengine\u001b[0m \u001b[0;34m==\u001b[0m \u001b[0;34m'c'\u001b[0m\u001b[0;34m:\u001b[0m\u001b[0;34m\u001b[0m\u001b[0;34m\u001b[0m\u001b[0m\n\u001b[0;32m-> 1014\u001b[0;31m             \u001b[0mself\u001b[0m\u001b[0;34m.\u001b[0m\u001b[0m_engine\u001b[0m \u001b[0;34m=\u001b[0m \u001b[0mCParserWrapper\u001b[0m\u001b[0;34m(\u001b[0m\u001b[0mself\u001b[0m\u001b[0;34m.\u001b[0m\u001b[0mf\u001b[0m\u001b[0;34m,\u001b[0m \u001b[0;34m**\u001b[0m\u001b[0mself\u001b[0m\u001b[0;34m.\u001b[0m\u001b[0moptions\u001b[0m\u001b[0;34m)\u001b[0m\u001b[0;34m\u001b[0m\u001b[0;34m\u001b[0m\u001b[0m\n\u001b[0m\u001b[1;32m   1015\u001b[0m         \u001b[0;32melse\u001b[0m\u001b[0;34m:\u001b[0m\u001b[0;34m\u001b[0m\u001b[0;34m\u001b[0m\u001b[0m\n\u001b[1;32m   1016\u001b[0m             \u001b[0;32mif\u001b[0m \u001b[0mengine\u001b[0m \u001b[0;34m==\u001b[0m \u001b[0;34m'python'\u001b[0m\u001b[0;34m:\u001b[0m\u001b[0;34m\u001b[0m\u001b[0;34m\u001b[0m\u001b[0m\n",
      "\u001b[0;32m/anaconda3/lib/python3.7/site-packages/pandas/io/parsers.py\u001b[0m in \u001b[0;36m__init__\u001b[0;34m(self, src, **kwds)\u001b[0m\n\u001b[1;32m   1706\u001b[0m         \u001b[0mkwds\u001b[0m\u001b[0;34m[\u001b[0m\u001b[0;34m'usecols'\u001b[0m\u001b[0;34m]\u001b[0m \u001b[0;34m=\u001b[0m \u001b[0mself\u001b[0m\u001b[0;34m.\u001b[0m\u001b[0musecols\u001b[0m\u001b[0;34m\u001b[0m\u001b[0;34m\u001b[0m\u001b[0m\n\u001b[1;32m   1707\u001b[0m \u001b[0;34m\u001b[0m\u001b[0m\n\u001b[0;32m-> 1708\u001b[0;31m         \u001b[0mself\u001b[0m\u001b[0;34m.\u001b[0m\u001b[0m_reader\u001b[0m \u001b[0;34m=\u001b[0m \u001b[0mparsers\u001b[0m\u001b[0;34m.\u001b[0m\u001b[0mTextReader\u001b[0m\u001b[0;34m(\u001b[0m\u001b[0msrc\u001b[0m\u001b[0;34m,\u001b[0m \u001b[0;34m**\u001b[0m\u001b[0mkwds\u001b[0m\u001b[0;34m)\u001b[0m\u001b[0;34m\u001b[0m\u001b[0;34m\u001b[0m\u001b[0m\n\u001b[0m\u001b[1;32m   1709\u001b[0m \u001b[0;34m\u001b[0m\u001b[0m\n\u001b[1;32m   1710\u001b[0m         \u001b[0mpassed_names\u001b[0m \u001b[0;34m=\u001b[0m \u001b[0mself\u001b[0m\u001b[0;34m.\u001b[0m\u001b[0mnames\u001b[0m \u001b[0;32mis\u001b[0m \u001b[0;32mNone\u001b[0m\u001b[0;34m\u001b[0m\u001b[0;34m\u001b[0m\u001b[0m\n",
      "\u001b[0;32mpandas/_libs/parsers.pyx\u001b[0m in \u001b[0;36mpandas._libs.parsers.TextReader.__cinit__\u001b[0;34m()\u001b[0m\n",
      "\u001b[0;32mpandas/_libs/parsers.pyx\u001b[0m in \u001b[0;36mpandas._libs.parsers.TextReader._setup_parser_source\u001b[0;34m()\u001b[0m\n",
      "\u001b[0;31mFileNotFoundError\u001b[0m: File b'network_backup_dataset.csv' does not exist"
     ]
    }
   ],
   "source": [
    "# Read data\n",
    "dataset1 = pd.read_csv('network_backup_dataset.csv')"
   ]
  },
  {
   "cell_type": "code",
   "execution_count": null,
   "metadata": {},
   "outputs": [],
   "source": [
    "dataset1.head(10)"
   ]
  },
  {
   "cell_type": "code",
   "execution_count": null,
   "metadata": {},
   "outputs": [],
   "source": [
    "#PERFORM SCALAR ENCODING\n",
    "# Read data\n",
    "dataset1 = pd.read_csv('network_backup_dataset.csv')\n",
    "\n",
    "#replace days of week with numbers 1-7\n",
    "days_of_week = ['Monday', 'Tuesday', 'Wednesday', 'Thursday', 'Friday', 'Saturday', 'Sunday']\n",
    "q2_days = 0\n",
    "for day in days_of_week:\n",
    "    q2_days += 1\n",
    "    dataset1.loc[dataset1['Day of Week'] == day, 'Day of Week'] = q2_days\n",
    "    \n",
    "#replace 'Work-Flow-ID' with numbers 1-5\n",
    "q2_id = 0\n",
    "wrkflw_id = np.unique(dataset1['Work-Flow-ID'])\n",
    "for wrkflwid in wrkflw_id:\n",
    "    q2_id += 1\n",
    "    dataset1.loc[dataset1['Work-Flow-ID'] == wrkflwid, 'Work-Flow-ID'] = q2_id\n",
    "    \n",
    "#replace 'Hour of the Day' \n",
    "q2_id = 0\n",
    "wrkflw_id = np.unique(dataset1['Backup Start Time - Hour of Day'])\n",
    "for wrkflwid in wrkflw_id:\n",
    "    q2_id += 1\n",
    "    dataset1.loc[dataset1['Backup Start Time - Hour of Day'] == wrkflwid, 'Backup Start Time - Hour of Day'] = q2_id\n",
    "    \n",
    "#replace 'File Name' with numbers 1-30\n",
    "q2_nm = 0\n",
    "file_name = ['File_0',  'File_1',  'File_2',  'File_3',  'File_4',  'File_5',  'File_6', \n",
    "             'File_7',  'File_8',  'File_9',  'File_10', 'File_11', 'File_12', 'File_13', \n",
    "             'File_14', 'File_15', 'File_16', 'File_17', 'File_18', 'File_19', 'File_20', \n",
    "             'File_21', 'File_22', 'File_23', 'File_24', 'File_25', 'File_26', 'File_27',\n",
    "             'File_28', 'File_29']\n",
    "for fl_nm in file_name:\n",
    "    q2_nm += 1\n",
    "    dataset1.loc[dataset1['File Name'] == fl_nm, 'File Name'] = q2_nm\n",
    "    \n",
    "#replace 'Week Numer' with numbers \n",
    "q2_id = 0\n",
    "wrkflw_id = np.unique(dataset1['Week #'])\n",
    "for wrkflwid in wrkflw_id:\n",
    "    q2_id += 1\n",
    "    dataset1.loc[dataset1['Week #'] == wrkflwid,'Week #'] = q2_id\n",
    "        \n",
    "\n",
    "\n",
    "    \n",
    "#Backup Stat Time - Hour of Day already scalar\n",
    "#Backup Time (hour) already scalar\n",
    "    \n",
    "    \n",
    "#Add a column with the day number to all entries\n",
    "data_q1 = dataset1\n",
    "week_col = data_q1['Week #']\n",
    "day_column = data_q1['Day of Week']\n",
    "day = []\n",
    "for i in range(0, 18588):\n",
    "    day.append((week_col[i]-1)*7+day_column[i])\n",
    "data_q1.insert(2, 'Day', day)"
   ]
  },
  {
   "cell_type": "markdown",
   "metadata": {},
   "source": [
    "#### Question 1.a"
   ]
  },
  {
   "cell_type": "code",
   "execution_count": null,
   "metadata": {},
   "outputs": [],
   "source": [
    "dataframe = dataset1.groupby(['Day', 'Work-Flow-ID'])['Size of Backup (GB)'].sum()"
   ]
  },
  {
   "cell_type": "code",
   "execution_count": null,
   "metadata": {},
   "outputs": [],
   "source": [
    "num_work_ids = len(np.unique(dataset1['Work-Flow-ID']))\n",
    "num_days = 20\n",
    "color_list = ['b', 'g', 'r', 'c', 'm']\n",
    "for i in range(num_work_ids):\n",
    "    sizes_work_id = dataframe[i:num_work_ids*num_days+i:num_work_ids].values\n",
    "    plt.plot(range(1, num_days+1), sizes_work_id, linewidth = 2.0, c = color_list[i], label = 'Work Flow '+str(i+1))\n",
    "plt.legend()    \n",
    "plt.xticks(range(1, num_days+1))\n",
    "plt.xlabel('Day Number')\n",
    "plt.ylabel('Size of Backup')\n",
    "plt.title('Day Number vs Size of Backup')"
   ]
  },
  {
   "cell_type": "markdown",
   "metadata": {},
   "source": [
    "#### Question 1.b"
   ]
  },
  {
   "cell_type": "code",
   "execution_count": null,
   "metadata": {},
   "outputs": [],
   "source": [
    "num_work_ids = len(np.unique(dataset1['Work-Flow-ID']))\n",
    "num_days = 105\n",
    "color_list = ['b', 'g', 'r', 'c', 'm']\n",
    "plt.figure(figsize=(15, 10))\n",
    "for i in range(num_work_ids):\n",
    "    sizes_work_id = dataframe[i:num_work_ids*num_days+i:num_work_ids].values\n",
    "    plt.plot(range(1, num_days+1), sizes_work_id, linewidth = 1.0, c = color_list[i], label = 'Work Flow '+str(i+1))\n",
    "plt.legend()    \n",
    "#plt.xticks(range(1, num_days+1))\n",
    "plt.xlabel('Day Number')\n",
    "plt.ylabel('Size of Backup')\n",
    "plt.title('Day Number vs Size of Backup')"
   ]
  },
  {
   "cell_type": "markdown",
   "metadata": {},
   "source": [
    "#### Question 1.c"
   ]
  },
  {
   "cell_type": "markdown",
   "metadata": {},
   "source": [
    "Yes there is a pattern that which clearly repeats. The period is of the pattern is 7, that is Workflow pattern are same each day of the week."
   ]
  },
  {
   "cell_type": "markdown",
   "metadata": {},
   "source": [
    "### Question 2, Predict"
   ]
  },
  {
   "cell_type": "markdown",
   "metadata": {},
   "source": [
    "#### Part-(a) Linear Models"
   ]
  },
  {
   "cell_type": "code",
   "execution_count": 86,
   "metadata": {},
   "outputs": [],
   "source": [
    "#### from sklearn import preprocessing\n",
    "from sklearn.linear_model import LinearRegression\n",
    "from sklearn.model_selection import cross_val_predict, cross_val_score, cross_validate\n",
    "\n",
    "# Prepare the data:\n",
    "#col 0 = Week #\n",
    "#col 1 = Day of Week\n",
    "#col 2 = day (??)\n",
    "#col 3 = Hour of Day\n",
    "#col 4 = Work flow ID\n",
    "#col 5 = File Name/#\n",
    "#col 6 = Size of Backup\n",
    "#col 7 = Backuptime\n",
    "X_data = dataset1.values[:, [0, 1, 2, 3, 4]]\n",
    "y_data = dataset1.values[:, [5]] #backupsize = goal for prediction\n",
    "\n",
    "# 10 fold cross validation:\n",
    "linear_reg = LinearRegression()\n",
    "\n",
    "cv_results = cross_validate(linear_reg, X_data, y_data, cv=10,\n",
    "                        scoring='neg_mean_squared_error', return_train_score=True)"
   ]
  },
  {
   "cell_type": "code",
   "execution_count": 87,
   "metadata": {},
   "outputs": [
    {
     "name": "stdout",
     "output_type": "stream",
     "text": [
      "Training set RMSE is 1.707778305370077\n",
      "Training set RMSE is 1.7084732194947716\n",
      "Training set RMSE is 1.7081423858664604\n",
      "Training set RMSE is 1.7080583518781438\n",
      "Training set RMSE is 1.7079542548761066\n",
      "Training set RMSE is 1.7082588070374298\n",
      "Training set RMSE is 1.7080559723807713\n",
      "Training set RMSE is 1.7078482487679623\n",
      "Training set RMSE is 1.7080480741042299\n",
      "Training set RMSE is 1.7080620808527558\n",
      "Test set RMSE is 1.7098193326518443\n",
      "Test set RMSE is 1.705116404357511\n",
      "Test set RMSE is 1.7077267900671185\n",
      "Test set RMSE is 1.7073001769327085\n",
      "Test set RMSE is 1.709191145904742\n",
      "Test set RMSE is 1.7063507227822714\n",
      "Test set RMSE is 1.708587115192138\n",
      "Test set RMSE is 1.7091905475094018\n",
      "Test set RMSE is 1.7089561776139315\n",
      "Test set RMSE is 1.7087507921263478\n",
      "\n",
      "Average RMSE on Train dataset: 1.70807\n",
      "Average RMSE on Test dataset: 1.70810\n"
     ]
    }
   ],
   "source": [
    "linear_train_mse = -cv_results['train_score']\n",
    "linear_test_mse = -cv_results['test_score']\n",
    "linear_train_rmse = np.sqrt(linear_train_mse)\n",
    "linear_test_rmse = np.sqrt(linear_test_mse)\n",
    "for rmse in linear_train_rmse:\n",
    "    print('Training set RMSE is {}'.format(rmse))\n",
    "    \n",
    "for rmse in linear_test_rmse:\n",
    "    print('Test set RMSE is {}'.format(rmse))\n",
    "\n",
    "print('\\nAverage RMSE on Train dataset: {:.5f}' .format(np.sqrt(np.mean(linear_train_mse))))\n",
    "print('Average RMSE on Test dataset: {:.5f}' .format(np.sqrt(np.mean(linear_test_mse))))"
   ]
  },
  {
   "cell_type": "code",
   "execution_count": 88,
   "metadata": {},
   "outputs": [],
   "source": [
    "# Use complete dataset and plot the obseved vs true and residual vs observed plots\n",
    "linear_reg.fit(X_data, y_data)\n",
    "y_est_lin = linear_reg.predict(X_data)"
   ]
  },
  {
   "cell_type": "code",
   "execution_count": 90,
   "metadata": {},
   "outputs": [
    {
     "data": {
      "text/plain": [
       "Text(0.5, 1.0, 'Predictions vs True values')"
      ]
     },
     "execution_count": 90,
     "metadata": {},
     "output_type": "execute_result"
    },
    {
     "data": {
      "image/png": "[encoded data removed]",
      "text/plain": [
       "<Figure size 576x432 with 1 Axes>"
      ]
     },
     "metadata": {
      "needs_background": "light"
     },
     "output_type": "display_data"
    }
   ],
   "source": [
    "plt.figure(figsize=(8, 6))\n",
    "plt.scatter(y_est_lin, y_data, s=2)\n",
    "#plt.plot([y_data.min(), y_data.max()], [y_data.min(), y_data.max()],'k--', lw=3,label='actual ', )\n",
    "plt.ylabel('True')\n",
    "plt.xlabel('Predictions')\n",
    "plt.title('Predictions vs True values')\n",
    "\n",
    "#plt.plot(y_est,label='true values')\n",
    "##plt.plot([y_data.min(), y_data.max()], [y_data.min(), y_data.max()],'k--', lw=3,label='actual ', )\n",
    "#plt.xlabel('True')\n",
    "#plt.ylabel('Predictions')\n",
    "#plt.title('Predictions vs True values')\n",
    "#plt.legend(loc='upper left')"
   ]
  },
  {
   "cell_type": "code",
   "execution_count": 92,
   "metadata": {},
   "outputs": [
    {
     "data": {
      "text/plain": [
       "Text(0.5, 1.0, 'Residual vs Predicted Values')"
      ]
     },
     "execution_count": 92,
     "metadata": {},
     "output_type": "execute_result"
    },
    {
     "data": {
      "image/png": "[encoded data removed]",
      "text/plain": [
       "<Figure size 576x432 with 1 Axes>"
      ]
     },
     "metadata": {
      "needs_background": "light"
     },
     "output_type": "display_data"
    }
   ],
   "source": [
    "plt.figure(figsize=(8, 6))\n",
    "plt.scatter(y_data-y_est_lin, y_est_lin, s=2)\n",
    "# plt.plot([y_data.min(), y_data.max()], [0, 0], 'k--', lw=3)\n",
    "plt.xlabel('Residual')\n",
    "plt.ylabel('Predictions')\n",
    "plt.title('Residual vs Predicted Values')"
   ]
  },
  {
   "cell_type": "code",
   "execution_count": 97,
   "metadata": {},
   "outputs": [
    {
     "data": {
      "image/png": "[encoded data removed]",
      "text/plain": [
       "<Figure size 576x432 with 1 Axes>"
      ]
     },
     "metadata": {
      "needs_background": "light"
     },
     "output_type": "display_data"
    }
   ],
   "source": [
    "plt.figure(figsize=(8, 6))\n",
    "plt.scatter(np.arange(len(y_data)),y_data, s=1)\n",
    "#plt.plot(np.arange(len(y_data)),y_est_lin,label='predicted data')\n",
    "plt.xlabel('Predictions')\n",
    "plt.ylabel('Truth')\n",
    "plt.title('Question 2a')\n",
    "#plt.legend()\n",
    "plt.show()"
   ]
  },
  {
   "cell_type": "markdown",
   "metadata": {},
   "source": [
    "**Random forest regression**"
   ]
  },
  {
   "cell_type": "code",
   "execution_count": null,
   "metadata": {},
   "outputs": [],
   "source": []
  },
  {
   "cell_type": "code",
   "execution_count": 98,
   "metadata": {},
   "outputs": [
    {
     "data": {
      "text/plain": [
       "{'fit_time': array([0.22047162, 0.17857432, 0.14665198, 0.15164256, 0.15562296,\n",
       "        0.1745832 , 0.18156719, 0.15961647, 0.15462995, 0.14264989]),\n",
       " 'score_time': array([0.00399065, 0.00199294, 0.00299239, 0.00299239, 0.00199246,\n",
       "        0.00299287, 0.00299311, 0.00299335, 0.00299382, 0.00299382]),\n",
       " 'test_score': array([-2.93058636, -2.9066726 , -2.91617686, -2.91508871, -2.92176046,\n",
       "        -2.91198691, -2.91953444, -2.92202972, -2.92001373, -2.9216944 ]),\n",
       " 'train_score': array([-2.91698087, -2.91882551, -2.91798458, -2.91804685, -2.91726808,\n",
       "        -2.91838403, -2.91759893, -2.91724078, -2.91751428, -2.91754076])}"
      ]
     },
     "execution_count": 98,
     "metadata": {},
     "output_type": "execute_result"
    }
   ],
   "source": [
    "#QUESTION 2bi\n",
    "# Random forest regression:\n",
    "\n",
    "\n",
    "# Prepare the data:\n",
    "#col 0 = Week #\n",
    "#col 1 = Day of Week\n",
    "#col 2 = day (??)\n",
    "#col 3 = Hour of Day\n",
    "#col 4 = Work flow ID\n",
    "#col 5 = File Name/#\n",
    "#col 6 = Size of Backup\n",
    "#col 7 = Backuptime\n",
    "X_data = dataset1.values[:, [0, 1, 2, 3, 4]]\n",
    "y_data = dataset1.values[:, [5]] #backupsize = goal for prediction\n",
    "\n",
    "\n",
    "\n",
    "from sklearn.ensemble import RandomForestRegressor\n",
    "forestReg_est = RandomForestRegressor(max_depth=4, n_estimators=20, max_features=5,\n",
    "                                      bootstrap=True, oob_score=False)\n",
    "\n",
    "forest_cv_results = cross_validate(forestReg_est, X_data, y_data.ravel(), cv=10,\n",
    "                scoring='neg_mean_squared_error', return_train_score=True)\n",
    "forest_cv_results"
   ]
  },
  {
   "cell_type": "code",
   "execution_count": 99,
   "metadata": {},
   "outputs": [],
   "source": [
    "import warnings\n",
    "warnings.filterwarnings('ignore')"
   ]
  },
  {
   "cell_type": "code",
   "execution_count": 100,
   "metadata": {},
   "outputs": [
    {
     "name": "stdout",
     "output_type": "stream",
     "text": [
      "Random forest Training set RMSE is 1.7079171159430908\n",
      "Random forest Training set RMSE is 1.7084570558668835\n",
      "Random forest Training set RMSE is 1.7082109283582785\n",
      "Random forest Training set RMSE is 1.7082291562822176\n",
      "Random forest Training set RMSE is 1.708001192933414\n",
      "Random forest Training set RMSE is 1.7083278465806295\n",
      "Random forest Training set RMSE is 1.7080980439751796\n",
      "Random forest Training set RMSE is 1.707993202215055\n",
      "Random forest Training set RMSE is 1.7080732640002114\n",
      "Random forest Training set RMSE is 1.7080810175444723\n",
      "\n",
      "Random forest Test set RMSE is 1.7118955468673738\n",
      "Random forest Test set RMSE is 1.7048966544472017\n",
      "Random forest Test set RMSE is 1.707681721635477\n",
      "Random forest Test set RMSE is 1.7073630863249472\n",
      "Random forest Test set RMSE is 1.7093157881889585\n",
      "Random forest Test set RMSE is 1.706454484065867\n",
      "Random forest Test set RMSE is 1.7086645186323195\n",
      "Random forest Test set RMSE is 1.7093945480419608\n",
      "Random forest Test set RMSE is 1.7088047679526566\n",
      "Random forest Test set RMSE is 1.7092964636154533\n",
      "\n",
      "2bi answers\n",
      "Average RMSE on Train dataset: 1.70814\n",
      "Average RMSE on Test dataset:  1.70838\n",
      "\n",
      "Out of Bag Error: 0.03935275319835374\n"
     ]
    }
   ],
   "source": [
    "forest_train_mse = -forest_cv_results['train_score']\n",
    "forest_test_mse = -forest_cv_results['test_score']\n",
    "forest_train_rmse = np.sqrt(forest_train_mse)\n",
    "forest_test_rmse = np.sqrt(forest_test_mse)\n",
    "\n",
    "for rmse in forest_train_rmse:\n",
    "    print('Random forest Training set RMSE is {}'.format(rmse))\n",
    "print('')\n",
    "for rmse in forest_test_rmse:\n",
    "    print('Random forest Test set RMSE is {}'.format(rmse))\n",
    "    \n",
    "print('\\n2bi answers')\n",
    "print('Average RMSE on Train dataset: {:.5f}'.format(np.sqrt(np.mean(forest_train_mse))))\n",
    "print('Average RMSE on Test dataset:  {:.5f}'.format(np.sqrt(np.mean(forest_test_mse))))\n",
    "\n",
    "# train on complete data: ;; how much this makes sense\n",
    "forestReg_est = RandomForestRegressor(max_depth=4, n_estimators=20, max_features=5,\n",
    "                                      bootstrap=True, oob_score=True)\n",
    "forestReg_est.fit(X_data, y_data.ravel())\n",
    "\n",
    "print('\\nOut of Bag Error: {}'.format(1-forestReg_est.oob_score_))"
   ]
  },
  {
   "cell_type": "code",
   "execution_count": null,
   "metadata": {},
   "outputs": [
    {
     "name": "stdout",
     "output_type": "stream",
     "text": [
      "fitting with 1 number of max features\n",
      "fitting with 2 number of max features\n",
      "fitting with 3 number of max features\n",
      "fitting with 4 number of max features\n",
      "fitting with 5 number of max features\n"
     ]
    }
   ],
   "source": [
    "#QUESTION 2bii\n",
    "# train, test split of data:\n",
    "from sklearn.model_selection import train_test_split\n",
    "from sklearn.metrics import mean_squared_error\n",
    "\n",
    "X_train, X_test, y_train, y_test = train_test_split(X_data, y_data, test_size=0.1)\n",
    "grid_forestReg_est = RandomForestRegressor(n_estimators=5, max_features=5, max_depth=4,\n",
    "                                           bootstrap=True, oob_score=True)\n",
    "array_oob_error = np.zeros([5, 200])\n",
    "array_rmse = np.zeros([5, 200])\n",
    "\n",
    "for i, max_feat in zip(range(5), range(1, 6)):\n",
    "    print('fitting with {} number of max features'.format(max_feat))\n",
    "    for j, n_est in zip(range(200), range(1, 201)):\n",
    "        # oob error:\n",
    "        grid_forestReg_est.set_params(n_estimators=n_est, max_features=max_feat)\n",
    "        grid_forestReg_est.fit(X_data, y_data.ravel())\n",
    "        oob_error = 1-grid_forestReg_est.oob_score_\n",
    "        array_oob_error[i, j] = oob_error\n",
    "        # mse:\n",
    "        y_pred = grid_forestReg_est.predict(X_test)\n",
    "        mse = np.sqrt(mean_squared_error(y_test, y_pred))\n",
    "        array_rmse[i, j] = mse"
   ]
  },
  {
   "cell_type": "code",
   "execution_count": null,
   "metadata": {},
   "outputs": [],
   "source": [
    "plt.figure(figsize=(8, 6))\n",
    "for i in range(5):\n",
    "    plt.plot(range(1, 201), array_rmse[i, :], label='max features = '+str(i+1))\n",
    "plt.xlabel('Number of trees')\n",
    "plt.ylabel('RMSE')\n",
    "plt.title('Question 2bii')\n",
    "plt.legend()\n",
    "print('optimal around number of features = 3 and number of trees =22')"
   ]
  },
  {
   "cell_type": "code",
   "execution_count": 28,
   "metadata": {},
   "outputs": [
    {
     "name": "stdout",
     "output_type": "stream",
     "text": [
      "(4, 30)\n"
     ]
    }
   ],
   "source": [
    "ind = np.unravel_index(np.argmin(array_rmse, axis=None), array_rmse.shape)\n",
    "print(ind)"
   ]
  },
  {
   "cell_type": "code",
   "execution_count": 29,
   "metadata": {},
   "outputs": [],
   "source": [
    "best_num_feats = ind[0]+1\n",
    "best_num_est = ind[1]+1"
   ]
  },
  {
   "cell_type": "code",
   "execution_count": 30,
   "metadata": {},
   "outputs": [
    {
     "data": {
      "text/plain": [
       "<matplotlib.legend.Legend at 0x228bdc2fba8>"
      ]
     },
     "execution_count": 30,
     "metadata": {},
     "output_type": "execute_result"
    },
    {
     "data": {
      "image/png": "[encoded data removed]",
      "text/plain": [
       "<Figure size 432x288 with 1 Axes>"
      ]
     },
     "metadata": {
      "needs_background": "light"
     },
     "output_type": "display_data"
    }
   ],
   "source": [
    "for i in range(5):\n",
    "    plt.plot(range(1, 201), array_oob_error[i, :], label='max features = '+str(i+1))\n",
    "plt.xlabel('Number of trees')\n",
    "plt.ylabel('OOB error')\n",
    "plt.title('Question 2bii')\n",
    "plt.legend()"
   ]
  },
  {
   "cell_type": "markdown",
   "metadata": {},
   "source": [
    "We choose to experiment to max_depth and min_impurity_decrease"
   ]
  },
  {
   "cell_type": "code",
   "execution_count": 31,
   "metadata": {},
   "outputs": [],
   "source": [
    "#QUESTION 2biii\n",
    "# train, test split of data:\n",
    "from sklearn.model_selection import train_test_split\n",
    "from sklearn.metrics import mean_squared_error\n",
    "\n",
    "X_train, X_test, y_train, y_test = train_test_split(X_data, y_data, test_size=0.1)\n",
    "grid_forestReg_est_depth = RandomForestRegressor(n_estimators=best_num_est, max_features=best_num_feats, max_depth=4,\n",
    "                                               bootstrap=True, oob_score=True)\n",
    "array_oob_error_depth = np.zeros([25])\n",
    "array_train_rmse_depth = np.zeros([25])\n",
    "array_test_rmse_depth = np.zeros([25])\n",
    "\n",
    "for i, max_depth in zip(range(25), range(1, 26)):\n",
    "    # oob error:\n",
    "    grid_forestReg_est_depth.set_params(max_depth=max_depth)\n",
    "    grid_forestReg_est_depth.fit(X_train, y_train)\n",
    "    oob_error = 1-grid_forestReg_est_depth.oob_score_\n",
    "    array_oob_error_depth[i] = oob_error\n",
    "    # test mse:\n",
    "    y_test_pred = grid_forestReg_est_depth.predict(X_test)\n",
    "    test_mse = np.sqrt(mean_squared_error(y_test, y_test_pred))\n",
    "    array_test_rmse_depth[i] = test_mse\n",
    "    # train mse:\n",
    "    y_train_pred = grid_forestReg_est_depth.predict(X_train)\n",
    "    train_mse = np.sqrt(mean_squared_error(y_train, y_train_pred))\n",
    "    array_train_rmse_depth[i] = train_mse    "
   ]
  },
  {
   "cell_type": "code",
   "execution_count": 32,
   "metadata": {},
   "outputs": [
    {
     "name": "stdout",
     "output_type": "stream",
     "text": [
      "Would choose ~9 max depth for best performance\n"
     ]
    },
    {
     "data": {
      "image/png": "[encoded data removed]",
      "text/plain": [
       "<Figure size 432x288 with 1 Axes>"
      ]
     },
     "metadata": {
      "needs_background": "light"
     },
     "output_type": "display_data"
    }
   ],
   "source": [
    "plt.plot(range(1, 26), array_oob_error_depth)\n",
    "plt.xlabel('max depth')\n",
    "plt.ylabel('OOB error')\n",
    "plt.title('Question 2biii')\n",
    "print('Would choose ~9 max depth for best performance')"
   ]
  },
  {
   "cell_type": "code",
   "execution_count": 33,
   "metadata": {},
   "outputs": [
    {
     "name": "stdout",
     "output_type": "stream",
     "text": [
      "Would choose ~9 max depth for best performance\n"
     ]
    },
    {
     "data": {
      "image/png": "[encoded data removed]",
      "text/plain": [
       "<Figure size 432x288 with 1 Axes>"
      ]
     },
     "metadata": {
      "needs_background": "light"
     },
     "output_type": "display_data"
    }
   ],
   "source": [
    "plt.plot(range(1, 26), array_test_rmse_depth, label='test')\n",
    "plt.plot(range(1, 26), array_train_rmse_depth, label='train')\n",
    "plt.xlabel('max depth')\n",
    "plt.ylabel('RMSE')\n",
    "plt.title('Question 2biii')\n",
    "print('Would choose ~9 max depth for best performance')"
   ]
  },
  {
   "cell_type": "code",
   "execution_count": 34,
   "metadata": {},
   "outputs": [
    {
     "name": "stdout",
     "output_type": "stream",
     "text": [
      "QUESTION 1biv\n",
      "FEATURE IMPORTANCES\n",
      "[0 3 1 2 4]\n",
      "best number of estimators 31\n",
      "best number of features 5\n"
     ]
    }
   ],
   "source": [
    "#QUESTION 2biv\n",
    "grid_forestReg_best = RandomForestRegressor(n_estimators=best_num_est, max_features=best_num_feats, max_depth=4,\n",
    "                                               bootstrap=True, oob_score=True)\n",
    "\n",
    "grid_forestReg_best.fit(X_train, y_train)\n",
    "importances = grid_forestReg_best.feature_importances_\n",
    "print('QUESTION 1biv')\n",
    "print('FEATURE IMPORTANCES')\n",
    "print(np.argsort(importances))\n",
    "print('best number of estimators', best_num_est)\n",
    "print('best number of features',best_num_feats)"
   ]
  },
  {
   "cell_type": "code",
   "execution_count": 38,
   "metadata": {},
   "outputs": [
    {
     "data": {
      "image/png": "[encoded data removed]",
      "text/plain": [
       "<Figure size 432x288 with 1 Axes>"
      ]
     },
     "metadata": {
      "needs_background": "light"
     },
     "output_type": "display_data"
    }
   ],
   "source": [
    "#QUESTION 2bv\n",
    "#copy so i dont have to run everything again to test 2bv\n",
    "# train, test split of data:\n",
    "from sklearn.ensemble import RandomForestRegressor\n",
    "from sklearn.model_selection import train_test_split\n",
    "from sklearn.metrics import mean_squared_error\n",
    "\n",
    "grid_forestReg_best = RandomForestRegressor(n_estimators=22, max_features=3, max_depth=4,\n",
    "                                               bootstrap=True, oob_score=True)\n",
    "\n",
    "\n",
    "y_est_for=grid_forestReg_best.fit(X_data, y_data).predict(X_data)\n",
    "importances = grid_forestReg_best.feature_importances_\n",
    "\n",
    "\n",
    "plt.scatter(np.arange(len(y_data)),y_data,label='true data')\n",
    "plt.plot(np.arange(len(y_data)),y_est_for,label='predicted data')\n",
    "plt.xlabel('Predictions')\n",
    "plt.ylabel('Truth')\n",
    "plt.title('Question 2a')\n",
    "plt.legend()\n",
    "plt.show()"
   ]
  },
  {
   "cell_type": "code",
   "execution_count": 44,
   "metadata": {},
   "outputs": [
    {
     "name": "stdout",
     "output_type": "stream",
     "text": [
      "Question 2bv Decision Tree Visualization\n"
     ]
    },
    {
     "ename": "FileNotFoundError",
     "evalue": "[Errno 2] No such file or directory: 'tree.png'",
     "output_type": "error",
     "traceback": [
      "\u001b[1;31m---------------------------------------------------------------------------\u001b[0m",
      "\u001b[1;31mFileNotFoundError\u001b[0m                         Traceback (most recent call last)",
      "\u001b[1;32m<ipython-input-44-e4ece295f96b>\u001b[0m in \u001b[0;36m<module>\u001b[1;34m\u001b[0m\n\u001b[0;32m     18\u001b[0m \u001b[1;33m\u001b[0m\u001b[0m\n\u001b[0;32m     19\u001b[0m \u001b[1;32mfrom\u001b[0m \u001b[0mIPython\u001b[0m\u001b[1;33m.\u001b[0m\u001b[0mdisplay\u001b[0m \u001b[1;32mimport\u001b[0m \u001b[0mImage\u001b[0m\u001b[1;33m\u001b[0m\u001b[1;33m\u001b[0m\u001b[0m\n\u001b[1;32m---> 20\u001b[1;33m \u001b[0mImage\u001b[0m\u001b[1;33m(\u001b[0m\u001b[0mfilename\u001b[0m\u001b[1;33m=\u001b[0m\u001b[1;34m'tree.png'\u001b[0m\u001b[1;33m)\u001b[0m\u001b[1;33m\u001b[0m\u001b[1;33m\u001b[0m\u001b[0m\n\u001b[0m",
      "\u001b[1;32mC:\\ProgramData\\Anaconda3\\lib\\site-packages\\IPython\\core\\display.py\u001b[0m in \u001b[0;36m__init__\u001b[1;34m(self, data, url, filename, format, embed, width, height, retina, unconfined, metadata)\u001b[0m\n\u001b[0;32m   1184\u001b[0m         \u001b[0mself\u001b[0m\u001b[1;33m.\u001b[0m\u001b[0munconfined\u001b[0m \u001b[1;33m=\u001b[0m \u001b[0munconfined\u001b[0m\u001b[1;33m\u001b[0m\u001b[1;33m\u001b[0m\u001b[0m\n\u001b[0;32m   1185\u001b[0m         super(Image, self).__init__(data=data, url=url, filename=filename, \n\u001b[1;32m-> 1186\u001b[1;33m                 metadata=metadata)\n\u001b[0m\u001b[0;32m   1187\u001b[0m \u001b[1;33m\u001b[0m\u001b[0m\n\u001b[0;32m   1188\u001b[0m         \u001b[1;32mif\u001b[0m \u001b[0mself\u001b[0m\u001b[1;33m.\u001b[0m\u001b[0mwidth\u001b[0m \u001b[1;32mis\u001b[0m \u001b[1;32mNone\u001b[0m \u001b[1;32mand\u001b[0m \u001b[0mself\u001b[0m\u001b[1;33m.\u001b[0m\u001b[0mmetadata\u001b[0m\u001b[1;33m.\u001b[0m\u001b[0mget\u001b[0m\u001b[1;33m(\u001b[0m\u001b[1;34m'width'\u001b[0m\u001b[1;33m,\u001b[0m \u001b[1;33m{\u001b[0m\u001b[1;33m}\u001b[0m\u001b[1;33m)\u001b[0m\u001b[1;33m:\u001b[0m\u001b[1;33m\u001b[0m\u001b[1;33m\u001b[0m\u001b[0m\n",
      "\u001b[1;32mC:\\ProgramData\\Anaconda3\\lib\\site-packages\\IPython\\core\\display.py\u001b[0m in \u001b[0;36m__init__\u001b[1;34m(self, data, url, filename, metadata)\u001b[0m\n\u001b[0;32m    613\u001b[0m             \u001b[0mself\u001b[0m\u001b[1;33m.\u001b[0m\u001b[0mmetadata\u001b[0m \u001b[1;33m=\u001b[0m \u001b[1;33m{\u001b[0m\u001b[1;33m}\u001b[0m\u001b[1;33m\u001b[0m\u001b[1;33m\u001b[0m\u001b[0m\n\u001b[0;32m    614\u001b[0m \u001b[1;33m\u001b[0m\u001b[0m\n\u001b[1;32m--> 615\u001b[1;33m         \u001b[0mself\u001b[0m\u001b[1;33m.\u001b[0m\u001b[0mreload\u001b[0m\u001b[1;33m(\u001b[0m\u001b[1;33m)\u001b[0m\u001b[1;33m\u001b[0m\u001b[1;33m\u001b[0m\u001b[0m\n\u001b[0m\u001b[0;32m    616\u001b[0m         \u001b[0mself\u001b[0m\u001b[1;33m.\u001b[0m\u001b[0m_check_data\u001b[0m\u001b[1;33m(\u001b[0m\u001b[1;33m)\u001b[0m\u001b[1;33m\u001b[0m\u001b[1;33m\u001b[0m\u001b[0m\n\u001b[0;32m    617\u001b[0m \u001b[1;33m\u001b[0m\u001b[0m\n",
      "\u001b[1;32mC:\\ProgramData\\Anaconda3\\lib\\site-packages\\IPython\\core\\display.py\u001b[0m in \u001b[0;36mreload\u001b[1;34m(self)\u001b[0m\n\u001b[0;32m   1215\u001b[0m         \u001b[1;34m\"\"\"Reload the raw data from file or URL.\"\"\"\u001b[0m\u001b[1;33m\u001b[0m\u001b[1;33m\u001b[0m\u001b[0m\n\u001b[0;32m   1216\u001b[0m         \u001b[1;32mif\u001b[0m \u001b[0mself\u001b[0m\u001b[1;33m.\u001b[0m\u001b[0membed\u001b[0m\u001b[1;33m:\u001b[0m\u001b[1;33m\u001b[0m\u001b[1;33m\u001b[0m\u001b[0m\n\u001b[1;32m-> 1217\u001b[1;33m             \u001b[0msuper\u001b[0m\u001b[1;33m(\u001b[0m\u001b[0mImage\u001b[0m\u001b[1;33m,\u001b[0m\u001b[0mself\u001b[0m\u001b[1;33m)\u001b[0m\u001b[1;33m.\u001b[0m\u001b[0mreload\u001b[0m\u001b[1;33m(\u001b[0m\u001b[1;33m)\u001b[0m\u001b[1;33m\u001b[0m\u001b[1;33m\u001b[0m\u001b[0m\n\u001b[0m\u001b[0;32m   1218\u001b[0m             \u001b[1;32mif\u001b[0m \u001b[0mself\u001b[0m\u001b[1;33m.\u001b[0m\u001b[0mretina\u001b[0m\u001b[1;33m:\u001b[0m\u001b[1;33m\u001b[0m\u001b[1;33m\u001b[0m\u001b[0m\n\u001b[0;32m   1219\u001b[0m                 \u001b[0mself\u001b[0m\u001b[1;33m.\u001b[0m\u001b[0m_retina_shape\u001b[0m\u001b[1;33m(\u001b[0m\u001b[1;33m)\u001b[0m\u001b[1;33m\u001b[0m\u001b[1;33m\u001b[0m\u001b[0m\n",
      "\u001b[1;32mC:\\ProgramData\\Anaconda3\\lib\\site-packages\\IPython\\core\\display.py\u001b[0m in \u001b[0;36mreload\u001b[1;34m(self)\u001b[0m\n\u001b[0;32m    638\u001b[0m         \u001b[1;34m\"\"\"Reload the raw data from file or URL.\"\"\"\u001b[0m\u001b[1;33m\u001b[0m\u001b[1;33m\u001b[0m\u001b[0m\n\u001b[0;32m    639\u001b[0m         \u001b[1;32mif\u001b[0m \u001b[0mself\u001b[0m\u001b[1;33m.\u001b[0m\u001b[0mfilename\u001b[0m \u001b[1;32mis\u001b[0m \u001b[1;32mnot\u001b[0m \u001b[1;32mNone\u001b[0m\u001b[1;33m:\u001b[0m\u001b[1;33m\u001b[0m\u001b[1;33m\u001b[0m\u001b[0m\n\u001b[1;32m--> 640\u001b[1;33m             \u001b[1;32mwith\u001b[0m \u001b[0mopen\u001b[0m\u001b[1;33m(\u001b[0m\u001b[0mself\u001b[0m\u001b[1;33m.\u001b[0m\u001b[0mfilename\u001b[0m\u001b[1;33m,\u001b[0m \u001b[0mself\u001b[0m\u001b[1;33m.\u001b[0m\u001b[0m_read_flags\u001b[0m\u001b[1;33m)\u001b[0m \u001b[1;32mas\u001b[0m \u001b[0mf\u001b[0m\u001b[1;33m:\u001b[0m\u001b[1;33m\u001b[0m\u001b[1;33m\u001b[0m\u001b[0m\n\u001b[0m\u001b[0;32m    641\u001b[0m                 \u001b[0mself\u001b[0m\u001b[1;33m.\u001b[0m\u001b[0mdata\u001b[0m \u001b[1;33m=\u001b[0m \u001b[0mf\u001b[0m\u001b[1;33m.\u001b[0m\u001b[0mread\u001b[0m\u001b[1;33m(\u001b[0m\u001b[1;33m)\u001b[0m\u001b[1;33m\u001b[0m\u001b[1;33m\u001b[0m\u001b[0m\n\u001b[0;32m    642\u001b[0m         \u001b[1;32melif\u001b[0m \u001b[0mself\u001b[0m\u001b[1;33m.\u001b[0m\u001b[0murl\u001b[0m \u001b[1;32mis\u001b[0m \u001b[1;32mnot\u001b[0m \u001b[1;32mNone\u001b[0m\u001b[1;33m:\u001b[0m\u001b[1;33m\u001b[0m\u001b[1;33m\u001b[0m\u001b[0m\n",
      "\u001b[1;31mFileNotFoundError\u001b[0m: [Errno 2] No such file or directory: 'tree.png'"
     ]
    }
   ],
   "source": [
    "#QUESTION 2bv\n",
    "from sklearn import tree\n",
    "#Will need to download python-graphviz (not standard in Anaconda)\n",
    "from sklearn.tree import export_graphviz\n",
    "print('Question 2bv Decision Tree Visualization')\n",
    "\n",
    "export_graphviz(grid_forestReg_best.estimators_[0], out_file='tree')\n",
    "\n",
    "#Which is root node?\n",
    "#TIs this the most important feature according to importance from regressor above?\n",
    "#from subprocess import call\n",
    "#call(['dot', '-Tpng', 'tree.dot', '-o', 'tree.png', '-Gdpi=600'])\n",
    "import os\n",
    "os.system('dot -Tpng tree.dot -o tree.png')\n",
    "\n",
    "#from subprocess import check_call\n",
    "#check_call(['dot','-Tpng','tree.dot','-o','tree.png'])\n",
    "\n",
    "from IPython.display import Image\n",
    "Image(filename='tree.png')"
   ]
  },
  {
   "cell_type": "markdown",
   "metadata": {},
   "source": [
    "![](tree.png)"
   ]
  },
  {
   "cell_type": "markdown",
   "metadata": {},
   "source": [
    "**Part-(c) Neural Networks**"
   ]
  },
  {
   "cell_type": "code",
   "execution_count": 45,
   "metadata": {},
   "outputs": [
    {
     "name": "stdout",
     "output_type": "stream",
     "text": [
      "[[array([1, 0, 0, 0, 0, 0, 0, 0, 0, 0, 0, 0, 0, 0, 0])\n",
      "  list([1, 0, 0, 0, 0, 0, 0]) array([1, 0, 0, 0, 0])\n",
      "  array([1, 0, 0, 0, 0, 0, 0, 0, 0, 0, 0, 0, 0, 0, 0, 0, 0, 0, 0, 0, 0, 0,\n",
      "       0, 0, 0, 0, 0, 0, 0, 0])\n",
      "  0]\n",
      " [array([1, 0, 0, 0, 0, 0, 0, 0, 0, 0, 0, 0, 0, 0, 0])\n",
      "  list([1, 0, 0, 0, 0, 0, 0]) array([0, 0, 1, 0, 0])\n",
      "  array([0, 0, 0, 0, 0, 0, 0, 0, 0, 0, 0, 0, 1, 0, 0, 0, 0, 0, 0, 0, 0, 0,\n",
      "       0, 0, 0, 0, 0, 0, 0, 0])\n",
      "  0]\n",
      " [array([1, 0, 0, 0, 0, 0, 0, 0, 0, 0, 0, 0, 0, 0, 0])\n",
      "  list([1, 0, 0, 0, 0, 0, 0]) array([0, 0, 1, 0, 0])\n",
      "  array([0, 0, 0, 0, 0, 0, 0, 0, 0, 0, 0, 0, 0, 1, 0, 0, 0, 0, 0, 0, 0, 0,\n",
      "       0, 0, 0, 0, 0, 0, 0, 0])\n",
      "  0]\n",
      " ...\n",
      " [array([0, 0, 0, 0, 0, 0, 0, 0, 0, 0, 0, 0, 0, 0, 1])\n",
      "  list([0, 0, 0, 0, 0, 0, 1]) array([0, 0, 0, 0, 1])\n",
      "  array([0, 0, 0, 0, 0, 0, 0, 0, 0, 0, 0, 0, 0, 0, 0, 0, 0, 0, 0, 0, 0, 0,\n",
      "       0, 0, 0, 0, 1, 0, 0, 0])\n",
      "  2]\n",
      " [array([0, 0, 0, 0, 0, 0, 0, 0, 0, 0, 0, 0, 0, 0, 1])\n",
      "  list([0, 0, 0, 0, 0, 0, 1]) array([0, 0, 0, 0, 1])\n",
      "  array([0, 0, 0, 0, 0, 0, 0, 0, 0, 0, 0, 0, 0, 0, 0, 0, 0, 0, 0, 0, 0, 0,\n",
      "       0, 0, 0, 1, 0, 0, 0, 0])\n",
      "  2]\n",
      " [array([0, 0, 0, 0, 0, 0, 0, 0, 0, 0, 0, 0, 0, 0, 1])\n",
      "  list([0, 0, 0, 0, 0, 0, 1]) array([0, 0, 0, 0, 1])\n",
      "  array([0, 0, 0, 0, 0, 0, 0, 0, 0, 0, 0, 0, 0, 0, 0, 0, 0, 0, 0, 0, 0, 0,\n",
      "       0, 0, 1, 0, 0, 0, 0, 0])\n",
      "  2]]\n",
      "                                              Week #            Day of Week  \\\n",
      "0      [1, 0, 0, 0, 0, 0, 0, 0, 0, 0, 0, 0, 0, 0, 0]  [1, 0, 0, 0, 0, 0, 0]   \n",
      "1      [1, 0, 0, 0, 0, 0, 0, 0, 0, 0, 0, 0, 0, 0, 0]  [1, 0, 0, 0, 0, 0, 0]   \n",
      "2      [1, 0, 0, 0, 0, 0, 0, 0, 0, 0, 0, 0, 0, 0, 0]  [1, 0, 0, 0, 0, 0, 0]   \n",
      "3      [1, 0, 0, 0, 0, 0, 0, 0, 0, 0, 0, 0, 0, 0, 0]  [1, 0, 0, 0, 0, 0, 0]   \n",
      "4      [1, 0, 0, 0, 0, 0, 0, 0, 0, 0, 0, 0, 0, 0, 0]  [1, 0, 0, 0, 0, 0, 0]   \n",
      "5      [1, 0, 0, 0, 0, 0, 0, 0, 0, 0, 0, 0, 0, 0, 0]  [1, 0, 0, 0, 0, 0, 0]   \n",
      "6      [1, 0, 0, 0, 0, 0, 0, 0, 0, 0, 0, 0, 0, 0, 0]  [1, 0, 0, 0, 0, 0, 0]   \n",
      "7      [1, 0, 0, 0, 0, 0, 0, 0, 0, 0, 0, 0, 0, 0, 0]  [1, 0, 0, 0, 0, 0, 0]   \n",
      "8      [1, 0, 0, 0, 0, 0, 0, 0, 0, 0, 0, 0, 0, 0, 0]  [1, 0, 0, 0, 0, 0, 0]   \n",
      "9      [1, 0, 0, 0, 0, 0, 0, 0, 0, 0, 0, 0, 0, 0, 0]  [1, 0, 0, 0, 0, 0, 0]   \n",
      "10     [1, 0, 0, 0, 0, 0, 0, 0, 0, 0, 0, 0, 0, 0, 0]  [1, 0, 0, 0, 0, 0, 0]   \n",
      "11     [1, 0, 0, 0, 0, 0, 0, 0, 0, 0, 0, 0, 0, 0, 0]  [1, 0, 0, 0, 0, 0, 0]   \n",
      "12     [1, 0, 0, 0, 0, 0, 0, 0, 0, 0, 0, 0, 0, 0, 0]  [1, 0, 0, 0, 0, 0, 0]   \n",
      "13     [1, 0, 0, 0, 0, 0, 0, 0, 0, 0, 0, 0, 0, 0, 0]  [1, 0, 0, 0, 0, 0, 0]   \n",
      "14     [1, 0, 0, 0, 0, 0, 0, 0, 0, 0, 0, 0, 0, 0, 0]  [1, 0, 0, 0, 0, 0, 0]   \n",
      "15     [1, 0, 0, 0, 0, 0, 0, 0, 0, 0, 0, 0, 0, 0, 0]  [1, 0, 0, 0, 0, 0, 0]   \n",
      "16     [1, 0, 0, 0, 0, 0, 0, 0, 0, 0, 0, 0, 0, 0, 0]  [1, 0, 0, 0, 0, 0, 0]   \n",
      "17     [1, 0, 0, 0, 0, 0, 0, 0, 0, 0, 0, 0, 0, 0, 0]  [1, 0, 0, 0, 0, 0, 0]   \n",
      "18     [1, 0, 0, 0, 0, 0, 0, 0, 0, 0, 0, 0, 0, 0, 0]  [1, 0, 0, 0, 0, 0, 0]   \n",
      "19     [1, 0, 0, 0, 0, 0, 0, 0, 0, 0, 0, 0, 0, 0, 0]  [1, 0, 0, 0, 0, 0, 0]   \n",
      "20     [1, 0, 0, 0, 0, 0, 0, 0, 0, 0, 0, 0, 0, 0, 0]  [1, 0, 0, 0, 0, 0, 0]   \n",
      "21     [1, 0, 0, 0, 0, 0, 0, 0, 0, 0, 0, 0, 0, 0, 0]  [1, 0, 0, 0, 0, 0, 0]   \n",
      "22     [1, 0, 0, 0, 0, 0, 0, 0, 0, 0, 0, 0, 0, 0, 0]  [1, 0, 0, 0, 0, 0, 0]   \n",
      "23     [1, 0, 0, 0, 0, 0, 0, 0, 0, 0, 0, 0, 0, 0, 0]  [1, 0, 0, 0, 0, 0, 0]   \n",
      "24     [1, 0, 0, 0, 0, 0, 0, 0, 0, 0, 0, 0, 0, 0, 0]  [1, 0, 0, 0, 0, 0, 0]   \n",
      "25     [1, 0, 0, 0, 0, 0, 0, 0, 0, 0, 0, 0, 0, 0, 0]  [1, 0, 0, 0, 0, 0, 0]   \n",
      "26     [1, 0, 0, 0, 0, 0, 0, 0, 0, 0, 0, 0, 0, 0, 0]  [1, 0, 0, 0, 0, 0, 0]   \n",
      "27     [1, 0, 0, 0, 0, 0, 0, 0, 0, 0, 0, 0, 0, 0, 0]  [1, 0, 0, 0, 0, 0, 0]   \n",
      "28     [1, 0, 0, 0, 0, 0, 0, 0, 0, 0, 0, 0, 0, 0, 0]  [1, 0, 0, 0, 0, 0, 0]   \n",
      "29     [1, 0, 0, 0, 0, 0, 0, 0, 0, 0, 0, 0, 0, 0, 0]  [1, 0, 0, 0, 0, 0, 0]   \n",
      "...                                              ...                    ...   \n",
      "18558  [0, 0, 0, 0, 0, 0, 0, 0, 0, 0, 0, 0, 0, 0, 1]  [0, 0, 0, 0, 0, 0, 1]   \n",
      "18559  [0, 0, 0, 0, 0, 0, 0, 0, 0, 0, 0, 0, 0, 0, 1]  [0, 0, 0, 0, 0, 0, 1]   \n",
      "18560  [0, 0, 0, 0, 0, 0, 0, 0, 0, 0, 0, 0, 0, 0, 1]  [0, 0, 0, 0, 0, 0, 1]   \n",
      "18561  [0, 0, 0, 0, 0, 0, 0, 0, 0, 0, 0, 0, 0, 0, 1]  [0, 0, 0, 0, 0, 0, 1]   \n",
      "18562  [0, 0, 0, 0, 0, 0, 0, 0, 0, 0, 0, 0, 0, 0, 1]  [0, 0, 0, 0, 0, 0, 1]   \n",
      "18563  [0, 0, 0, 0, 0, 0, 0, 0, 0, 0, 0, 0, 0, 0, 1]  [0, 0, 0, 0, 0, 0, 1]   \n",
      "18564  [0, 0, 0, 0, 0, 0, 0, 0, 0, 0, 0, 0, 0, 0, 1]  [0, 0, 0, 0, 0, 0, 1]   \n",
      "18565  [0, 0, 0, 0, 0, 0, 0, 0, 0, 0, 0, 0, 0, 0, 1]  [0, 0, 0, 0, 0, 0, 1]   \n",
      "18566  [0, 0, 0, 0, 0, 0, 0, 0, 0, 0, 0, 0, 0, 0, 1]  [0, 0, 0, 0, 0, 0, 1]   \n",
      "18567  [0, 0, 0, 0, 0, 0, 0, 0, 0, 0, 0, 0, 0, 0, 1]  [0, 0, 0, 0, 0, 0, 1]   \n",
      "18568  [0, 0, 0, 0, 0, 0, 0, 0, 0, 0, 0, 0, 0, 0, 1]  [0, 0, 0, 0, 0, 0, 1]   \n",
      "18569  [0, 0, 0, 0, 0, 0, 0, 0, 0, 0, 0, 0, 0, 0, 1]  [0, 0, 0, 0, 0, 0, 1]   \n",
      "18570  [0, 0, 0, 0, 0, 0, 0, 0, 0, 0, 0, 0, 0, 0, 1]  [0, 0, 0, 0, 0, 0, 1]   \n",
      "18571  [0, 0, 0, 0, 0, 0, 0, 0, 0, 0, 0, 0, 0, 0, 1]  [0, 0, 0, 0, 0, 0, 1]   \n",
      "18572  [0, 0, 0, 0, 0, 0, 0, 0, 0, 0, 0, 0, 0, 0, 1]  [0, 0, 0, 0, 0, 0, 1]   \n",
      "18573  [0, 0, 0, 0, 0, 0, 0, 0, 0, 0, 0, 0, 0, 0, 1]  [0, 0, 0, 0, 0, 0, 1]   \n",
      "18574  [0, 0, 0, 0, 0, 0, 0, 0, 0, 0, 0, 0, 0, 0, 1]  [0, 0, 0, 0, 0, 0, 1]   \n",
      "18575  [0, 0, 0, 0, 0, 0, 0, 0, 0, 0, 0, 0, 0, 0, 1]  [0, 0, 0, 0, 0, 0, 1]   \n",
      "18576  [0, 0, 0, 0, 0, 0, 0, 0, 0, 0, 0, 0, 0, 0, 1]  [0, 0, 0, 0, 0, 0, 1]   \n",
      "18577  [0, 0, 0, 0, 0, 0, 0, 0, 0, 0, 0, 0, 0, 0, 1]  [0, 0, 0, 0, 0, 0, 1]   \n",
      "18578  [0, 0, 0, 0, 0, 0, 0, 0, 0, 0, 0, 0, 0, 0, 1]  [0, 0, 0, 0, 0, 0, 1]   \n",
      "18579  [0, 0, 0, 0, 0, 0, 0, 0, 0, 0, 0, 0, 0, 0, 1]  [0, 0, 0, 0, 0, 0, 1]   \n",
      "18580  [0, 0, 0, 0, 0, 0, 0, 0, 0, 0, 0, 0, 0, 0, 1]  [0, 0, 0, 0, 0, 0, 1]   \n",
      "18581  [0, 0, 0, 0, 0, 0, 0, 0, 0, 0, 0, 0, 0, 0, 1]  [0, 0, 0, 0, 0, 0, 1]   \n",
      "18582  [0, 0, 0, 0, 0, 0, 0, 0, 0, 0, 0, 0, 0, 0, 1]  [0, 0, 0, 0, 0, 0, 1]   \n",
      "18583  [0, 0, 0, 0, 0, 0, 0, 0, 0, 0, 0, 0, 0, 0, 1]  [0, 0, 0, 0, 0, 0, 1]   \n",
      "18584  [0, 0, 0, 0, 0, 0, 0, 0, 0, 0, 0, 0, 0, 0, 1]  [0, 0, 0, 0, 0, 0, 1]   \n",
      "18585  [0, 0, 0, 0, 0, 0, 0, 0, 0, 0, 0, 0, 0, 0, 1]  [0, 0, 0, 0, 0, 0, 1]   \n",
      "18586  [0, 0, 0, 0, 0, 0, 0, 0, 0, 0, 0, 0, 0, 0, 1]  [0, 0, 0, 0, 0, 0, 1]   \n",
      "18587  [0, 0, 0, 0, 0, 0, 0, 0, 0, 0, 0, 0, 0, 0, 1]  [0, 0, 0, 0, 0, 0, 1]   \n",
      "\n",
      "      Backup Start Time - Hour of Day     Work-Flow-ID  \\\n",
      "0                  [1, 0, 0, 0, 0, 0]  [1, 0, 0, 0, 0]   \n",
      "1                  [1, 0, 0, 0, 0, 0]  [0, 0, 1, 0, 0]   \n",
      "2                  [1, 0, 0, 0, 0, 0]  [0, 0, 1, 0, 0]   \n",
      "3                  [1, 0, 0, 0, 0, 0]  [0, 0, 1, 0, 0]   \n",
      "4                  [1, 0, 0, 0, 0, 0]  [0, 0, 1, 0, 0]   \n",
      "5                  [1, 0, 0, 0, 0, 0]  [0, 0, 1, 0, 0]   \n",
      "6                  [1, 0, 0, 0, 0, 0]  [0, 0, 0, 1, 0]   \n",
      "7                  [1, 0, 0, 0, 0, 0]  [0, 0, 0, 1, 0]   \n",
      "8                  [1, 0, 0, 0, 0, 0]  [0, 0, 0, 1, 0]   \n",
      "9                  [1, 0, 0, 0, 0, 0]  [0, 0, 0, 1, 0]   \n",
      "10                 [1, 0, 0, 0, 0, 0]  [0, 0, 0, 1, 0]   \n",
      "11                 [1, 0, 0, 0, 0, 0]  [0, 0, 0, 1, 0]   \n",
      "12                 [1, 0, 0, 0, 0, 0]  [1, 0, 0, 0, 0]   \n",
      "13                 [1, 0, 0, 0, 0, 0]  [1, 0, 0, 0, 0]   \n",
      "14                 [1, 0, 0, 0, 0, 0]  [1, 0, 0, 0, 0]   \n",
      "15                 [1, 0, 0, 0, 0, 0]  [1, 0, 0, 0, 0]   \n",
      "16                 [1, 0, 0, 0, 0, 0]  [1, 0, 0, 0, 0]   \n",
      "17                 [1, 0, 0, 0, 0, 0]  [0, 1, 0, 0, 0]   \n",
      "18                 [1, 0, 0, 0, 0, 0]  [0, 1, 0, 0, 0]   \n",
      "19                 [1, 0, 0, 0, 0, 0]  [0, 1, 0, 0, 0]   \n",
      "20                 [1, 0, 0, 0, 0, 0]  [0, 1, 0, 0, 0]   \n",
      "21                 [1, 0, 0, 0, 0, 0]  [0, 1, 0, 0, 0]   \n",
      "22                 [1, 0, 0, 0, 0, 0]  [0, 1, 0, 0, 0]   \n",
      "23                 [1, 0, 0, 0, 0, 0]  [0, 0, 1, 0, 0]   \n",
      "24                 [1, 0, 0, 0, 0, 0]  [0, 0, 0, 0, 1]   \n",
      "25                 [1, 0, 0, 0, 0, 0]  [0, 0, 0, 0, 1]   \n",
      "26                 [1, 0, 0, 0, 0, 0]  [0, 0, 0, 0, 1]   \n",
      "27                 [1, 0, 0, 0, 0, 0]  [0, 0, 0, 0, 1]   \n",
      "28                 [1, 0, 0, 0, 0, 0]  [0, 0, 0, 0, 1]   \n",
      "29                 [1, 0, 0, 0, 0, 0]  [0, 0, 0, 0, 1]   \n",
      "...                               ...              ...   \n",
      "18558              [0, 0, 0, 0, 0, 1]  [0, 1, 0, 0, 0]   \n",
      "18559              [0, 0, 0, 0, 0, 1]  [0, 1, 0, 0, 0]   \n",
      "18560              [0, 0, 0, 0, 0, 1]  [0, 1, 0, 0, 0]   \n",
      "18561              [0, 0, 0, 0, 0, 1]  [0, 1, 0, 0, 0]   \n",
      "18562              [0, 0, 0, 0, 0, 1]  [0, 1, 0, 0, 0]   \n",
      "18563              [0, 0, 0, 0, 0, 1]  [0, 1, 0, 0, 0]   \n",
      "18564              [0, 0, 0, 0, 0, 1]  [0, 0, 0, 1, 0]   \n",
      "18565              [0, 0, 0, 0, 0, 1]  [0, 0, 1, 0, 0]   \n",
      "18566              [0, 0, 0, 0, 0, 1]  [0, 0, 1, 0, 0]   \n",
      "18567              [0, 0, 0, 0, 0, 1]  [0, 0, 0, 1, 0]   \n",
      "18568              [0, 0, 0, 0, 0, 1]  [0, 0, 0, 1, 0]   \n",
      "18569              [0, 0, 0, 0, 0, 1]  [0, 0, 0, 1, 0]   \n",
      "18570              [0, 0, 0, 0, 0, 1]  [0, 0, 1, 0, 0]   \n",
      "18571              [0, 0, 0, 0, 0, 1]  [0, 0, 0, 1, 0]   \n",
      "18572              [0, 0, 0, 0, 0, 1]  [0, 0, 1, 0, 0]   \n",
      "18573              [0, 0, 0, 0, 0, 1]  [0, 0, 0, 1, 0]   \n",
      "18574              [0, 0, 0, 0, 0, 1]  [0, 0, 1, 0, 0]   \n",
      "18575              [0, 0, 0, 0, 0, 1]  [0, 0, 1, 0, 0]   \n",
      "18576              [0, 0, 0, 0, 0, 1]  [1, 0, 0, 0, 0]   \n",
      "18577              [0, 0, 0, 0, 0, 1]  [1, 0, 0, 0, 0]   \n",
      "18578              [0, 0, 0, 0, 0, 1]  [1, 0, 0, 0, 0]   \n",
      "18579              [0, 0, 0, 0, 0, 1]  [1, 0, 0, 0, 0]   \n",
      "18580              [0, 0, 0, 0, 0, 1]  [1, 0, 0, 0, 0]   \n",
      "18581              [0, 0, 0, 0, 0, 1]  [1, 0, 0, 0, 0]   \n",
      "18582              [0, 0, 0, 0, 0, 1]  [0, 0, 0, 0, 1]   \n",
      "18583              [0, 0, 0, 0, 0, 1]  [0, 0, 0, 0, 1]   \n",
      "18584              [0, 0, 0, 0, 0, 1]  [0, 0, 0, 0, 1]   \n",
      "18585              [0, 0, 0, 0, 0, 1]  [0, 0, 0, 0, 1]   \n",
      "18586              [0, 0, 0, 0, 0, 1]  [0, 0, 0, 0, 1]   \n",
      "18587              [0, 0, 0, 0, 0, 1]  [0, 0, 0, 0, 1]   \n",
      "\n",
      "                                               File Name  Size of Backup (GB)  \\\n",
      "0      [1, 0, 0, 0, 0, 0, 0, 0, 0, 0, 0, 0, 0, 0, 0, ...             0.000000   \n",
      "1      [0, 0, 0, 0, 0, 0, 0, 0, 0, 0, 0, 0, 1, 0, 0, ...             0.000000   \n",
      "2      [0, 0, 0, 0, 0, 0, 0, 0, 0, 0, 0, 0, 0, 1, 0, ...             0.000000   \n",
      "3      [0, 0, 0, 0, 0, 0, 0, 0, 0, 0, 0, 0, 0, 0, 1, ...             0.000000   \n",
      "4      [0, 0, 0, 0, 0, 0, 0, 0, 0, 0, 0, 0, 0, 0, 0, ...             0.000000   \n",
      "5      [0, 0, 0, 0, 0, 0, 0, 0, 0, 0, 0, 0, 0, 0, 0, ...             0.000000   \n",
      "6      [0, 0, 0, 0, 0, 0, 0, 0, 0, 0, 0, 0, 0, 0, 0, ...             0.000000   \n",
      "7      [0, 0, 0, 0, 0, 0, 0, 0, 0, 0, 0, 0, 0, 0, 0, ...             0.000000   \n",
      "8      [0, 0, 0, 0, 0, 0, 0, 0, 0, 0, 0, 0, 0, 0, 0, ...             0.000000   \n",
      "9      [0, 0, 0, 0, 0, 0, 0, 0, 0, 0, 0, 0, 0, 0, 0, ...             0.000000   \n",
      "10     [0, 0, 0, 0, 0, 0, 0, 0, 0, 0, 0, 0, 0, 0, 0, ...             0.000000   \n",
      "11     [0, 0, 0, 0, 0, 0, 0, 0, 0, 0, 0, 0, 0, 0, 0, ...             0.000000   \n",
      "12     [0, 1, 0, 0, 0, 0, 0, 0, 0, 0, 0, 0, 0, 0, 0, ...             0.020160   \n",
      "13     [0, 0, 1, 0, 0, 0, 0, 0, 0, 0, 0, 0, 0, 0, 0, ...             0.019116   \n",
      "14     [0, 0, 0, 1, 0, 0, 0, 0, 0, 0, 0, 0, 0, 0, 0, ...             0.019379   \n",
      "15     [0, 0, 0, 0, 1, 0, 0, 0, 0, 0, 0, 0, 0, 0, 0, ...             0.018992   \n",
      "16     [0, 0, 0, 0, 0, 1, 0, 0, 0, 0, 0, 0, 0, 0, 0, ...             0.020483   \n",
      "17     [0, 0, 0, 0, 0, 0, 1, 0, 0, 0, 0, 0, 0, 0, 0, ...             0.040971   \n",
      "18     [0, 0, 0, 0, 0, 0, 0, 1, 0, 0, 0, 0, 0, 0, 0, ...             0.039235   \n",
      "19     [0, 0, 0, 0, 0, 0, 0, 0, 1, 0, 0, 0, 0, 0, 0, ...             0.040813   \n",
      "20     [0, 0, 0, 0, 0, 0, 0, 0, 0, 1, 0, 0, 0, 0, 0, ...             0.042346   \n",
      "21     [0, 0, 0, 0, 0, 0, 0, 0, 0, 0, 1, 0, 0, 0, 0, ...             0.037704   \n",
      "22     [0, 0, 0, 0, 0, 0, 0, 0, 0, 0, 0, 1, 0, 0, 0, ...             0.040917   \n",
      "23     [0, 0, 0, 0, 0, 0, 0, 0, 0, 0, 0, 0, 0, 0, 0, ...             0.002160   \n",
      "24     [0, 0, 0, 0, 0, 0, 0, 0, 0, 0, 0, 0, 0, 0, 0, ...             0.018409   \n",
      "25     [0, 0, 0, 0, 0, 0, 0, 0, 0, 0, 0, 0, 0, 0, 0, ...             0.020608   \n",
      "26     [0, 0, 0, 0, 0, 0, 0, 0, 0, 0, 0, 0, 0, 0, 0, ...             0.020779   \n",
      "27     [0, 0, 0, 0, 0, 0, 0, 0, 0, 0, 0, 0, 0, 0, 0, ...             0.020015   \n",
      "28     [0, 0, 0, 0, 0, 0, 0, 0, 0, 0, 0, 0, 0, 0, 0, ...             0.021459   \n",
      "29     [0, 0, 0, 0, 0, 0, 0, 0, 0, 0, 0, 0, 0, 0, 0, ...             0.019936   \n",
      "...                                                  ...                  ...   \n",
      "18558  [0, 0, 0, 0, 0, 0, 0, 0, 0, 1, 0, 0, 0, 0, 0, ...             0.000000   \n",
      "18559  [0, 0, 0, 0, 0, 0, 1, 0, 0, 0, 0, 0, 0, 0, 0, ...             0.000000   \n",
      "18560  [0, 0, 0, 0, 0, 0, 0, 0, 0, 0, 0, 1, 0, 0, 0, ...             0.000000   \n",
      "18561  [0, 0, 0, 0, 0, 0, 0, 1, 0, 0, 0, 0, 0, 0, 0, ...             0.000000   \n",
      "18562  [0, 0, 0, 0, 0, 0, 0, 0, 1, 0, 0, 0, 0, 0, 0, ...             0.000000   \n",
      "18563  [0, 0, 0, 0, 0, 0, 0, 0, 0, 0, 1, 0, 0, 0, 0, ...             0.000000   \n",
      "18564  [0, 0, 0, 0, 0, 0, 0, 0, 0, 0, 0, 0, 0, 0, 0, ...             0.000000   \n",
      "18565  [0, 0, 0, 0, 0, 0, 0, 0, 0, 0, 0, 0, 0, 1, 0, ...             0.000000   \n",
      "18566  [0, 0, 0, 0, 0, 0, 0, 0, 0, 0, 0, 0, 0, 0, 1, ...             0.000000   \n",
      "18567  [0, 0, 0, 0, 0, 0, 0, 0, 0, 0, 0, 0, 0, 0, 0, ...             0.000000   \n",
      "18568  [0, 0, 0, 0, 0, 0, 0, 0, 0, 0, 0, 0, 0, 0, 0, ...             0.000000   \n",
      "18569  [0, 0, 0, 0, 0, 0, 0, 0, 0, 0, 0, 0, 0, 0, 0, ...             0.000000   \n",
      "18570  [0, 0, 0, 0, 0, 0, 0, 0, 0, 0, 0, 0, 0, 0, 0, ...             0.008865   \n",
      "18571  [0, 0, 0, 0, 0, 0, 0, 0, 0, 0, 0, 0, 0, 0, 0, ...             0.002137   \n",
      "18572  [0, 0, 0, 0, 0, 0, 0, 0, 0, 0, 0, 0, 0, 0, 0, ...             0.002722   \n",
      "18573  [0, 0, 0, 0, 0, 0, 0, 0, 0, 0, 0, 0, 0, 0, 0, ...             0.001880   \n",
      "18574  [0, 0, 0, 0, 0, 0, 0, 0, 0, 0, 0, 0, 0, 0, 0, ...             0.000147   \n",
      "18575  [0, 0, 0, 0, 0, 0, 0, 0, 0, 0, 0, 0, 1, 0, 0, ...             0.001889   \n",
      "18576  [0, 0, 0, 0, 0, 1, 0, 0, 0, 0, 0, 0, 0, 0, 0, ...             0.062498   \n",
      "18577  [0, 0, 0, 1, 0, 0, 0, 0, 0, 0, 0, 0, 0, 0, 0, ...             0.064661   \n",
      "18578  [0, 1, 0, 0, 0, 0, 0, 0, 0, 0, 0, 0, 0, 0, 0, ...             0.066242   \n",
      "18579  [0, 0, 1, 0, 0, 0, 0, 0, 0, 0, 0, 0, 0, 0, 0, ...             0.067474   \n",
      "18580  [0, 0, 0, 0, 1, 0, 0, 0, 0, 0, 0, 0, 0, 0, 0, ...             0.063802   \n",
      "18581  [1, 0, 0, 0, 0, 0, 0, 0, 0, 0, 0, 0, 0, 0, 0, ...             0.064605   \n",
      "18582  [0, 0, 0, 0, 0, 0, 0, 0, 0, 0, 0, 0, 0, 0, 0, ...             0.155822   \n",
      "18583  [0, 0, 0, 0, 0, 0, 0, 0, 0, 0, 0, 0, 0, 0, 0, ...             0.151538   \n",
      "18584  [0, 0, 0, 0, 0, 0, 0, 0, 0, 0, 0, 0, 0, 0, 0, ...             0.148363   \n",
      "18585  [0, 0, 0, 0, 0, 0, 0, 0, 0, 0, 0, 0, 0, 0, 0, ...             0.198572   \n",
      "18586  [0, 0, 0, 0, 0, 0, 0, 0, 0, 0, 0, 0, 0, 0, 0, ...             0.199570   \n",
      "18587  [0, 0, 0, 0, 0, 0, 0, 0, 0, 0, 0, 0, 0, 0, 0, ...             0.201201   \n",
      "\n",
      "       Backup Time (hour)  \n",
      "0                       0  \n",
      "1                       0  \n",
      "2                       0  \n",
      "3                       0  \n",
      "4                       0  \n",
      "5                       0  \n",
      "6                       0  \n",
      "7                       0  \n",
      "8                       0  \n",
      "9                       0  \n",
      "10                      0  \n",
      "11                      0  \n",
      "12                      1  \n",
      "13                      1  \n",
      "14                      1  \n",
      "15                      1  \n",
      "16                      1  \n",
      "17                      1  \n",
      "18                      1  \n",
      "19                      1  \n",
      "20                      1  \n",
      "21                      1  \n",
      "22                      1  \n",
      "23                      1  \n",
      "24                      1  \n",
      "25                      1  \n",
      "26                      1  \n",
      "27                      1  \n",
      "28                      1  \n",
      "29                      1  \n",
      "...                   ...  \n",
      "18558                   0  \n",
      "18559                   0  \n",
      "18560                   0  \n",
      "18561                   0  \n",
      "18562                   0  \n",
      "18563                   0  \n",
      "18564                   0  \n",
      "18565                   0  \n",
      "18566                   0  \n",
      "18567                   0  \n",
      "18568                   0  \n",
      "18569                   0  \n",
      "18570                   1  \n",
      "18571                   1  \n",
      "18572                   1  \n",
      "18573                   1  \n",
      "18574                   1  \n",
      "18575                   1  \n",
      "18576                   1  \n",
      "18577                   1  \n",
      "18578                   1  \n",
      "18579                   1  \n",
      "18580                   1  \n",
      "18581                   1  \n",
      "18582                   1  \n",
      "18583                   1  \n",
      "18584                   1  \n",
      "18585                   2  \n",
      "18586                   2  \n",
      "18587                   2  \n",
      "\n",
      "[18588 rows x 7 columns]\n"
     ]
    }
   ],
   "source": [
    "# MAKE ONE HOT ENCODING\n",
    "# Read data\n",
    "dataset2 = pd.read_csv('network_backup_dataset.csv')\n",
    "\n",
    "# DAY OF THE WEEK\n",
    "#make week dictionary\n",
    "onehot_week={'Monday':   [1,0,0,0,0,0,0],\n",
    "             'Tuesday':  [0,1,0,0,0,0,0],\n",
    "             'Wednesday':[0,0,1,0,0,0,0],\n",
    "             'Thursday': [0,0,0,1,0,0,0],\n",
    "             'Friday':   [0,0,0,0,1,0,0],\n",
    "             'Saturday': [0,0,0,0,0,1,0],\n",
    "             'Sunday':   [0,0,0,0,0,0,1]}\n",
    "\n",
    "#replace week days\n",
    "dataset2['Day of Week']=dataset2['Day of Week'].map(onehot_week)\n",
    "\n",
    "#WORK-FLOW-ID\n",
    "#make work flow id dictionary\n",
    "wrkflw_num = 0\n",
    "wrkflw_id = np.unique(dataset2['Work-Flow-ID'])\n",
    "onehot_flow={}\n",
    "for wrkflwid in wrkflw_id:\n",
    "    this_flow=np.zeros(len(wrkflw_id),dtype=int)\n",
    "    this_flow[wrkflw_num]=1\n",
    "    onehot_flow[wrkflwid] = this_flow\n",
    "    wrkflw_num += 1\n",
    "\n",
    "#replace work flow id\n",
    "dataset2['Work-Flow-ID']=dataset2['Work-Flow-ID'].map(onehot_flow)\n",
    "\n",
    "#FILE NAME\n",
    "#make file name disctionary\n",
    "file_num = 0\n",
    "file_name = ['File_0',  'File_1',  'File_2',  'File_3',  'File_4',  'File_5',  'File_6', \n",
    "             'File_7',  'File_8',  'File_9',  'File_10', 'File_11', 'File_12', 'File_13', \n",
    "             'File_14', 'File_15', 'File_16', 'File_17', 'File_18', 'File_19', 'File_20', \n",
    "             'File_21', 'File_22', 'File_23', 'File_24', 'File_25', 'File_26', 'File_27',\n",
    "             'File_28', 'File_29']\n",
    "onehot_file={}\n",
    "for fl_nm in file_name:\n",
    "    this_file = np.zeros(len(file_name),dtype=int)\n",
    "    this_file[file_num]=1\n",
    "    onehot_file[fl_nm] = this_file\n",
    "    file_num += 1\n",
    "    \n",
    "#replace file name\n",
    "dataset2['File Name']=dataset2['File Name'].map(onehot_file)\n",
    "\n",
    "#HOURS OF THE DAY\n",
    "#make Hour of the Day dictionary\n",
    "start_num = 0\n",
    "start_id = np.unique(dataset2['Backup Start Time - Hour of Day'])\n",
    "onehot_start={}\n",
    "for start in start_id:\n",
    "    this_start=np.zeros(len(start_id),dtype=int)\n",
    "    this_start[start_num]=1\n",
    "    onehot_start[start] = this_start\n",
    "    start_num += 1\n",
    "    \n",
    "#replace Hour of the Day days\n",
    "dataset2['Backup Start Time - Hour of Day']=dataset2['Backup Start Time - Hour of Day'].map(onehot_start)\n",
    "\n",
    "#make Week number dictionary\n",
    "size_num = 0\n",
    "size_id = np.unique(dataset2['Week #'])\n",
    "onehot_size={}\n",
    "for size in size_id:\n",
    "    this_size=np.zeros(len(size_id),dtype=int)\n",
    "    this_size[size_num]=1\n",
    "    onehot_size[size] = this_size\n",
    "    size_num += 1\n",
    "    \n",
    "#replace Backup time days\n",
    "dataset2['Week #']=dataset2['Week #'].map(onehot_size)\n",
    "\n",
    "\n",
    "\n",
    "# Prepare the data:\n",
    "X_data = dataset2.values[:, [0, 1, 3, 4, 6]]\n",
    "y_data = dataset2.values[:, [5]] # the size of backup (which are trying to predict)\n",
    "X_train, X_test, y_train, y_test = train_test_split(X_data, y_data, test_size=0.1)\n",
    "\n",
    "print(X_data)\n",
    "#print('--------------------')\n",
    "#print(y_data)\n",
    "print(dataset2)"
   ]
  },
  {
   "cell_type": "code",
   "execution_count": 46,
   "metadata": {},
   "outputs": [
    {
     "name": "stdout",
     "output_type": "stream",
     "text": [
      "[[array([1, 0, 0, 0, 0, 0, 0, 0, 0, 0, 0, 0, 0, 0, 0])\n",
      "  list([1, 0, 0, 0, 0, 0, 0]) array([1, 0, 0, 0, 0])\n",
      "  array([1, 0, 0, 0, 0, 0, 0, 0, 0, 0, 0, 0, 0, 0, 0, 0, 0, 0, 0, 0, 0, 0,\n",
      "       0, 0, 0, 0, 0, 0, 0, 0])\n",
      "  0]\n",
      " [array([1, 0, 0, 0, 0, 0, 0, 0, 0, 0, 0, 0, 0, 0, 0])\n",
      "  list([1, 0, 0, 0, 0, 0, 0]) array([0, 0, 1, 0, 0])\n",
      "  array([0, 0, 0, 0, 0, 0, 0, 0, 0, 0, 0, 0, 1, 0, 0, 0, 0, 0, 0, 0, 0, 0,\n",
      "       0, 0, 0, 0, 0, 0, 0, 0])\n",
      "  0]\n",
      " [array([1, 0, 0, 0, 0, 0, 0, 0, 0, 0, 0, 0, 0, 0, 0])\n",
      "  list([1, 0, 0, 0, 0, 0, 0]) array([0, 0, 1, 0, 0])\n",
      "  array([0, 0, 0, 0, 0, 0, 0, 0, 0, 0, 0, 0, 0, 1, 0, 0, 0, 0, 0, 0, 0, 0,\n",
      "       0, 0, 0, 0, 0, 0, 0, 0])\n",
      "  0]\n",
      " ...\n",
      " [array([0, 0, 0, 0, 0, 0, 0, 0, 0, 0, 0, 0, 0, 0, 1])\n",
      "  list([0, 0, 0, 0, 0, 0, 1]) array([0, 0, 0, 0, 1])\n",
      "  array([0, 0, 0, 0, 0, 0, 0, 0, 0, 0, 0, 0, 0, 0, 0, 0, 0, 0, 0, 0, 0, 0,\n",
      "       0, 0, 0, 0, 1, 0, 0, 0])\n",
      "  2]\n",
      " [array([0, 0, 0, 0, 0, 0, 0, 0, 0, 0, 0, 0, 0, 0, 1])\n",
      "  list([0, 0, 0, 0, 0, 0, 1]) array([0, 0, 0, 0, 1])\n",
      "  array([0, 0, 0, 0, 0, 0, 0, 0, 0, 0, 0, 0, 0, 0, 0, 0, 0, 0, 0, 0, 0, 0,\n",
      "       0, 0, 0, 1, 0, 0, 0, 0])\n",
      "  2]\n",
      " [array([0, 0, 0, 0, 0, 0, 0, 0, 0, 0, 0, 0, 0, 0, 1])\n",
      "  list([0, 0, 0, 0, 0, 0, 1]) array([0, 0, 0, 0, 1])\n",
      "  array([0, 0, 0, 0, 0, 0, 0, 0, 0, 0, 0, 0, 0, 0, 0, 0, 0, 0, 0, 0, 0, 0,\n",
      "       0, 0, 1, 0, 0, 0, 0, 0])\n",
      "  2]]\n"
     ]
    },
    {
     "ename": "NameError",
     "evalue": "name 'MLPRegressor' is not defined",
     "output_type": "error",
     "traceback": [
      "\u001b[1;31m---------------------------------------------------------------------------\u001b[0m",
      "\u001b[1;31mNameError\u001b[0m                                 Traceback (most recent call last)",
      "\u001b[1;32m<ipython-input-46-6edebcd8007d>\u001b[0m in \u001b[0;36m<module>\u001b[1;34m\u001b[0m\n\u001b[0;32m     14\u001b[0m \u001b[1;33m\u001b[0m\u001b[0m\n\u001b[0;32m     15\u001b[0m \u001b[1;31m# apply your linear regression as you want\u001b[0m\u001b[1;33m\u001b[0m\u001b[1;33m\u001b[0m\u001b[1;33m\u001b[0m\u001b[0m\n\u001b[1;32m---> 16\u001b[1;33m \u001b[0mmodel\u001b[0m \u001b[1;33m=\u001b[0m \u001b[0mMLPRegressor\u001b[0m\u001b[1;33m(\u001b[0m\u001b[1;33m)\u001b[0m\u001b[1;33m\u001b[0m\u001b[1;33m\u001b[0m\u001b[0m\n\u001b[0m\u001b[0;32m     17\u001b[0m \u001b[0mmodel\u001b[0m\u001b[1;33m.\u001b[0m\u001b[0mfit\u001b[0m\u001b[1;33m(\u001b[0m\u001b[0mX_transform\u001b[0m\u001b[1;33m,\u001b[0m \u001b[0my_data\u001b[0m\u001b[1;33m)\u001b[0m\u001b[1;33m\u001b[0m\u001b[1;33m\u001b[0m\u001b[0m\n\u001b[0;32m     18\u001b[0m \u001b[1;33m\u001b[0m\u001b[0m\n",
      "\u001b[1;31mNameError\u001b[0m: name 'MLPRegressor' is not defined"
     ]
    }
   ],
   "source": [
    "print(X_data)\n",
    "from sklearn.preprocessing import OneHotEncoder\n",
    "\n",
    "# Read data\n",
    "dataset2 = pd.read_csv('network_backup_dataset.csv')\n",
    "# Prepare the data:\n",
    "X_data = dataset1.values[:, [0, 1, 2, 3, 4]]\n",
    "y_data = dataset1.values[:, [5]] #backupsize = goal for prediction\n",
    "\n",
    "# X is a numpy array with your features\n",
    "# y is the label array\n",
    "enc = OneHotEncoder(sparse=False)\n",
    "X_transform = enc.fit_transform(X_data)\n",
    "\n",
    "# apply your linear regression as you want\n",
    "model = MLPRegressor()\n",
    "model.fit(X_transform, y_data)\n",
    "\n",
    "print(X_transform)\n",
    "print(X_transform.shape)"
   ]
  },
  {
   "cell_type": "code",
   "execution_count": 47,
   "metadata": {},
   "outputs": [],
   "source": [
    "from sklearn.neural_network import MLPRegressor\n",
    "from sklearn.metrics import mean_squared_error\n",
    "\n",
    "list_num_hid = [2, 5, 10, 50, 100, 150, 200] + list(range(250, 650, 50))\n",
    "\n",
    "mlp_train_rmse_list = np.zeros([3, len(list_num_hid)])\n",
    "mlp_test_rmse_list = np.zeros([3, len(list_num_hid)])\n",
    "\n",
    "for i, activation_fn in zip(range(3), ['relu', 'logistic', 'tanh']):\n",
    "    for j, num_hid in zip(range(len(list_num_hid)), list_num_hid):\n",
    "        mlp_reg = MLPRegressor(hidden_layer_sizes=(num_hid), activation=activation_fn)\n",
    "        mlp_cv_results = cross_validate(mlp_reg, X_transform, y_data, cv=10,\n",
    "                        scoring='neg_mean_squared_error', return_train_score=True)\n",
    "    \n",
    "        mlp_train_mse = -mlp_cv_results['train_score']\n",
    "        mlp_test_mse = -mlp_cv_results['test_score']\n",
    "        \n",
    "        mlp_train_rmse_list[i, j] = np.sqrt(np.mean(mlp_train_mse))\n",
    "        mlp_test_rmse_list[i, j]  = np.sqrt(np.mean(mlp_test_mse))"
   ]
  },
  {
   "cell_type": "code",
   "execution_count": 48,
   "metadata": {},
   "outputs": [
    {
     "name": "stdout",
     "output_type": "stream",
     "text": [
      "Would choose logistics and 2 hidden units for best performance\n"
     ]
    },
    {
     "data": {
      "image/png": "[encoded data removed]",
      "text/plain": [
       "<Figure size 432x288 with 1 Axes>"
      ]
     },
     "metadata": {
      "needs_background": "light"
     },
     "output_type": "display_data"
    }
   ],
   "source": [
    "plt.plot(np.arange(len(list_num_hid)), mlp_test_rmse_list[0,:], label='relu')\n",
    "plt.plot(np.arange(len(list_num_hid)), mlp_test_rmse_list[1,:], label='logistic')\n",
    "plt.plot(np.arange(len(list_num_hid)), mlp_test_rmse_list[2,:], label='tanh')\n",
    "plt.xlabel('# hidden units')\n",
    "plt.ylabel('RMSE')\n",
    "plt.title('Question 2c')\n",
    "plt.legend()\n",
    "print('Would choose logistics and 2 hidden units for best performance')"
   ]
  },
  {
   "cell_type": "code",
   "execution_count": 49,
   "metadata": {},
   "outputs": [],
   "source": [
    "#rerun best performer\n",
    "hidden_layer_opt=2\n",
    "activation_opt='logistic'\n",
    "mlp_reg = MLPRegressor(hidden_layer_sizes=hidden_layer_opt, activation=activation_opt)\n",
    "mlp_reg.fit(X_transform,y_data)\n",
    "y_pred=mlp_reg.predict(X_transform)"
   ]
  },
  {
   "cell_type": "code",
   "execution_count": 50,
   "metadata": {},
   "outputs": [
    {
     "data": {
      "text/plain": [
       "<matplotlib.legend.Legend at 0x228bf1cea20>"
      ]
     },
     "execution_count": 50,
     "metadata": {},
     "output_type": "execute_result"
    },
    {
     "data": {
      "image/png": "[encoded data removed]",
      "text/plain": [
       "<Figure size 432x288 with 1 Axes>"
      ]
     },
     "metadata": {
      "needs_background": "light"
     },
     "output_type": "display_data"
    }
   ],
   "source": [
    "plt.scatter(y_data, y_pred,label='true values')\n",
    "#plt.plot([y_data.min(), y_data.max()], [y_data.min(), y_data.max()],'k--', lw=3,label='prediction', )\n",
    "plt.xlabel('True')\n",
    "plt.ylabel('Predictions')\n",
    "plt.title('Predictions vs True values')\n",
    "plt.legend(loc='upper left')"
   ]
  },
  {
   "cell_type": "code",
   "execution_count": null,
   "metadata": {},
   "outputs": [],
   "source": []
  },
  {
   "cell_type": "code",
   "execution_count": 51,
   "metadata": {},
   "outputs": [
    {
     "data": {
      "text/plain": [
       "Text(0.5, 1.0, 'Residual vs True')"
      ]
     },
     "execution_count": 51,
     "metadata": {},
     "output_type": "execute_result"
    },
    {
     "data": {
      "image/png": "[encoded data removed]",
      "text/plain": [
       "<Figure size 432x288 with 1 Axes>"
      ]
     },
     "metadata": {
      "needs_background": "light"
     },
     "output_type": "display_data"
    }
   ],
   "source": [
    "plt.scatter(y_data, y_data[:,0]-y_pred,s=5)\n",
    "# plt.plot([y_data.min(), y_data.max()], [0, 0], 'k--', lw=3)\n",
    "plt.xlabel('Predictions')\n",
    "plt.ylabel('Residual')\n",
    "plt.title('Residual vs True')"
   ]
  },
  {
   "cell_type": "markdown",
   "metadata": {},
   "source": [
    "**Part-(d) Predict Backup size**"
   ]
  },
  {
   "cell_type": "code",
   "execution_count": 52,
   "metadata": {},
   "outputs": [],
   "source": [
    "#PERFORM SCALAR ENCODING\n",
    "# Read data\n",
    "dataset1 = pd.read_csv('network_backup_dataset.csv')\n",
    "\n",
    "#replace days of week with numbers 1-7\n",
    "days_of_week = ['Monday', 'Tuesday', 'Wednesday', 'Thursday', 'Friday', 'Saturday', 'Sunday']\n",
    "q2_days = 0\n",
    "for day in days_of_week:\n",
    "    q2_days += 1\n",
    "    dataset1.loc[dataset1['Day of Week'] == day, 'Day of Week'] = q2_days\n",
    "    \n",
    "#replace 'Work-Flow-ID' with numbers 1-5\n",
    "q2_id = 0\n",
    "wrkflw_id = np.unique(dataset1['Work-Flow-ID'])\n",
    "for wrkflwid in wrkflw_id:\n",
    "    q2_id += 1\n",
    "    temp=[]\n",
    "    temp=dataset1.loc[dataset1['Work-Flow-ID'] == wrkflwid, 'Work-Flow-ID']\n",
    "\n",
    "    dataset1.loc[dataset1['Work-Flow-ID'] == wrkflwid, 'Work-Flow-ID'] = q2_id\n",
    "    \n",
    "#replace 'Hour of the Day' \n",
    "q2_id = 0\n",
    "wrkflw_id = np.unique(dataset1['Backup Start Time - Hour of Day'])\n",
    "for wrkflwid in wrkflw_id:\n",
    "    q2_id += 1\n",
    "    dataset1.loc[dataset1['Backup Start Time - Hour of Day'] == wrkflwid, 'Backup Start Time - Hour of Day'] = q2_id\n",
    "    \n",
    "#replace 'File Name' with numbers 1-30\n",
    "q2_nm = 0\n",
    "file_name = ['File_0',  'File_1',  'File_2',  'File_3',  'File_4',  'File_5',  'File_6', \n",
    "             'File_7',  'File_8',  'File_9',  'File_10', 'File_11', 'File_12', 'File_13', \n",
    "             'File_14', 'File_15', 'File_16', 'File_17', 'File_18', 'File_19', 'File_20', \n",
    "             'File_21', 'File_22', 'File_23', 'File_24', 'File_25', 'File_26', 'File_27',\n",
    "             'File_28', 'File_29']\n",
    "for fl_nm in file_name:\n",
    "    q2_nm += 1\n",
    "    dataset1.loc[dataset1['File Name'] == fl_nm, 'File Name'] = q2_nm\n",
    "    \n"
   ]
  },
  {
   "cell_type": "code",
   "execution_count": 53,
   "metadata": {},
   "outputs": [],
   "source": [
    "#QUESTION 2di\n",
    "\n",
    "# Prepare the data:\n",
    "#col 0 = Week #\n",
    "#col 1 = Day of Week\n",
    "#col 2 = day (??)\n",
    "#col 3 = Hour of Day\n",
    "#col 4 = Work flow ID\n",
    "#col 5 = File Name/#\n",
    "#col 6 = Size of Backup\n",
    "#col 7 = Backuptime\n",
    "X_data = dataset1.values[:, [0, 1, 2, 3, 4]]\n",
    "y_data = dataset1.values[:, [5]] #backupsize = goal for prediction\n",
    "\n",
    "#get all workflows\n",
    "linear_reg = LinearRegression()\n",
    "linear_reg.fit(X_data,y_data)\n",
    "y_pred_all=linear_reg.predict(X_data)\n",
    "\n",
    "\n",
    "#print('unique outputs\\n',np.unique(y_data))\n",
    "#print('unique flow IDs\\n',np.unique(X_data[:,2]))\n",
    "#print('All input data\\n',X_data)\n",
    "#print('------------------------\\n'*2)\n",
    "true=[]\n",
    "pred=[]\n",
    "label=[]\n",
    "for flow in np.unique(X_data[:,2]):\n",
    "    # 10 fold cross validation:\n",
    "    this_flow=[]\n",
    "    this_flow=X_data[X_data[:,2]==flow,:]\n",
    "    #print('this flows dataset',this_flow)\n",
    "    this_out=y_data[X_data[:,2]==flow]\n",
    "    #print('this flows output',this_out)\n",
    "    #print('------------------------')\n",
    "    linear_reg = LinearRegression()\n",
    "    linear_reg.fit(this_flow,this_out)\n",
    "    y_pred=linear_reg.predict(this_flow)\n",
    "    true.append(y_data[X_data[:,2]==flow])\n",
    "    pred.append(y_pred)\n",
    "    label.append(dataset1.values[0, [4]])"
   ]
  },
  {
   "cell_type": "code",
   "execution_count": 54,
   "metadata": {},
   "outputs": [
    {
     "data": {
      "image/png": "[encoded data removed]",
      "text/plain": [
       "<Figure size 432x288 with 1 Axes>"
      ]
     },
     "metadata": {
      "needs_background": "light"
     },
     "output_type": "display_data"
    },
    {
     "data": {
      "image/png": "[encoded data removed]",
      "text/plain": [
       "<Figure size 432x288 with 1 Axes>"
      ]
     },
     "metadata": {
      "needs_background": "light"
     },
     "output_type": "display_data"
    },
    {
     "data": {
      "image/png": "[encoded data removed]",
      "text/plain": [
       "<Figure size 432x288 with 1 Axes>"
      ]
     },
     "metadata": {
      "needs_background": "light"
     },
     "output_type": "display_data"
    },
    {
     "data": {
      "image/png": "[encoded data removed]",
      "text/plain": [
       "<Figure size 432x288 with 1 Axes>"
      ]
     },
     "metadata": {
      "needs_background": "light"
     },
     "output_type": "display_data"
    },
    {
     "name": "stdout",
     "output_type": "stream",
     "text": [
      "Its pretty bad in either case!\n"
     ]
    }
   ],
   "source": [
    "fig1=plt.figure()\n",
    "ax1=fig1.add_subplot(111)\n",
    "for idx in range(len(np.unique(X_data[:,2]))):\n",
    "    label='work_flow_'+str(idx)\n",
    "    ax1.scatter(true[idx],pred[idx],label=label)    \n",
    "plt.xlabel('Truth')\n",
    "plt.ylabel('Predictions')\n",
    "plt.title('Question 2di')\n",
    "plt.legend()\n",
    "plt.show()\n",
    "\n",
    "\n",
    "fig2=plt.figure()\n",
    "ax2=fig2.add_subplot(111)\n",
    "for idx in range(len(np.unique(X_data[:,2]))):\n",
    "    label='work_flow_'+str(idx)\n",
    "    ax2.scatter(true[idx], true[idx]-pred[idx][0],label=label)\n",
    "plt.xlabel('Predictions')\n",
    "plt.ylabel('Residual')\n",
    "plt.title('Residual vs True')\n",
    "plt.legend()\n",
    "plt.show()\n",
    "    \n",
    "    \n",
    "plt.scatter(y_pred_all,y_data,label='All workflows')\n",
    "plt.xlabel('Predictions')\n",
    "plt.ylabel('Truth')\n",
    "plt.title('Question 2di')\n",
    "plt.legend()\n",
    "plt.show()\n",
    "\n",
    "plt.scatter(y_data,y_data-y_pred_all,label='All workflows')\n",
    "plt.ylabel('Residuals')\n",
    "plt.xlabel('Truth')\n",
    "plt.title('Question 2di')\n",
    "plt.legend()\n",
    "plt.show()\n",
    "\n",
    "print('Its pretty bad in either case!')"
   ]
  },
  {
   "cell_type": "code",
   "execution_count": 55,
   "metadata": {},
   "outputs": [
    {
     "data": {
      "text/plain": [
       "[0.09502832823882365,\n",
       " 0.09502832823882365,\n",
       " 0.09502832823882365,\n",
       " 0.09502832823882365,\n",
       " 0.09502832823882365,\n",
       " 0.09502832823882365,\n",
       " 0.09502832823882365,\n",
       " 0.09502832823882365,\n",
       " 0.09502832823882365,\n",
       " 0.09502832823882365]"
      ]
     },
     "execution_count": 55,
     "metadata": {},
     "output_type": "execute_result"
    }
   ],
   "source": [
    "#QUESTION 2dii\n",
    "from sklearn.preprocessing import PolynomialFeatures\n",
    "# Prepare the data:\n",
    "#col 0 = Week #\n",
    "#col 1 = Day of Week\n",
    "#col 2 = day (??)\n",
    "#col 3 = Hour of Day\n",
    "#col 4 = Work flow ID\n",
    "#col 5 = File Name/#\n",
    "#col 6 = Size of Backup\n",
    "#col 7 = Backuptime\n",
    "X_data = dataset1.values[:, [0, 1, 2, 3, 4]]\n",
    "y_data = dataset1.values[:, [5]] #backupsize = goal for prediction\n",
    "\n",
    "poly_train_rmse_list=[]\n",
    "poly_test_rmse_list=[]\n",
    "for degree in range(10):\n",
    "    polynomial_features= PolynomialFeatures(degree=10)\n",
    "    x_poly = polynomial_features.fit_transform(X_data)\n",
    "\n",
    "    linear_reg = LinearRegression()\n",
    "\n",
    "\n",
    "    poly_cv_results = cross_validate(linear_reg, x_poly, y_data, cv=10,\n",
    "                    scoring='neg_mean_squared_error', return_train_score=True)\n",
    "\n",
    "    poly_train_mse = -poly_cv_results['train_score']\n",
    "    poly_test_mse = -poly_cv_results['test_score']\n",
    "\n",
    "    poly_train_rmse_list.append(np.sqrt(np.mean(poly_train_mse)))\n",
    "    poly_test_rmse_list.append(np.sqrt(np.mean(poly_test_mse)))\n",
    "    \n",
    "poly_train_rmse_list\n",
    "poly_test_rmse_list"
   ]
  },
  {
   "cell_type": "code",
   "execution_count": 56,
   "metadata": {},
   "outputs": [
    {
     "data": {
      "image/png": "[encoded data removed]",
      "text/plain": [
       "<Figure size 432x288 with 1 Axes>"
      ]
     },
     "metadata": {
      "needs_background": "light"
     },
     "output_type": "display_data"
    }
   ],
   "source": [
    "plt.plot(np.arange(10),poly_test_rmse_list)\n",
    "plt.show()"
   ]
  },
  {
   "cell_type": "code",
   "execution_count": 57,
   "metadata": {},
   "outputs": [],
   "source": [
    "#QUESTION 2dii\n",
    "from sklearn.preprocessing import PolynomialFeatures\n",
    "# Prepare the data:\n",
    "#col 0 = Week #\n",
    "#col 1 = Day of Week\n",
    "#col 2 = day (??)\n",
    "#col 3 = Hour of Day\n",
    "#col 4 = Work flow ID\n",
    "#col 5 = File Name/#\n",
    "#col 6 = Size of Backup\n",
    "#col 7 = Backuptime\n",
    "X_data = dataset1.values[:, [0, 1, 2, 3, 4]]\n",
    "y_data = dataset1.values[:, [5]] #backupsize = goal for prediction\n",
    "#get all workflows\n",
    "polynomial_features= PolynomialFeatures(degree=10)\n",
    "x_poly = polynomial_features.fit_transform(X_data)\n",
    "#get all workflows\n",
    "linear_reg = LinearRegression()\n",
    "linear_reg.fit(x_poly,y_data)\n",
    "y_pred_all_ii=linear_reg.predict(x_poly)\n",
    "\n",
    "\n",
    "#print('unique outputs\\n',np.unique(y_data))\n",
    "#print('unique flow IDs\\n',np.unique(X_data[:,2]))\n",
    "#print('All input data\\n',X_data)\n",
    "#print('------------------------\\n'*2)\n",
    "true_ii=[]\n",
    "pred_ii=[]\n",
    "label=[]\n",
    "for flow in np.unique(X_data[:,2]):\n",
    "    # 10 fold cross validation:\n",
    "    this_flow=[]\n",
    "    this_flow=x_poly[x_poly[:,2]==flow,:]\n",
    "    #print('this flows dataset',this_flow)\n",
    "    this_out=y_data[x_poly[:,2]==flow]\n",
    "    #print('this flows output',this_out)\n",
    "    #print('------------------------')\n",
    "    linear_reg = LinearRegression()\n",
    "    linear_reg.fit(this_flow,this_out)\n",
    "    y_pred=linear_reg.predict(this_flow)\n",
    "    true_ii.append(y_data[x_poly[:,2]==flow])\n",
    "    pred_ii.append(y_pred)\n",
    "    label.append(dataset1.values[0, [4]])"
   ]
  },
  {
   "cell_type": "code",
   "execution_count": 58,
   "metadata": {},
   "outputs": [
    {
     "data": {
      "image/png": "[encoded data removed]",
      "text/plain": [
       "<Figure size 432x288 with 1 Axes>"
      ]
     },
     "metadata": {
      "needs_background": "light"
     },
     "output_type": "display_data"
    },
    {
     "data": {
      "image/png": "[encoded data removed]",
      "text/plain": [
       "<Figure size 432x288 with 1 Axes>"
      ]
     },
     "metadata": {
      "needs_background": "light"
     },
     "output_type": "display_data"
    },
    {
     "data": {
      "image/png": "[encoded data removed]",
      "text/plain": [
       "<Figure size 432x288 with 1 Axes>"
      ]
     },
     "metadata": {
      "needs_background": "light"
     },
     "output_type": "display_data"
    },
    {
     "data": {
      "image/png": "[encoded data removed]",
      "text/plain": [
       "<Figure size 432x288 with 1 Axes>"
      ]
     },
     "metadata": {
      "needs_background": "light"
     },
     "output_type": "display_data"
    },
    {
     "name": "stdout",
     "output_type": "stream",
     "text": [
      "It looks better with indivual work flows but the residuals still look pretty much the same?\n"
     ]
    }
   ],
   "source": [
    "fig1=plt.figure()\n",
    "ax1=fig1.add_subplot(111)\n",
    "for idx in range(len(np.unique(X_data[:,2]))):\n",
    "    label='work_flow_'+str(idx)\n",
    "    ax1.scatter(true_ii[idx],pred_ii[idx],label=label)    \n",
    "plt.xlabel('Truth')\n",
    "plt.ylabel('Predictions')\n",
    "plt.title('Question 2di')\n",
    "plt.legend()\n",
    "plt.show()\n",
    "\n",
    "\n",
    "fig2=plt.figure()\n",
    "ax2=fig2.add_subplot(111)\n",
    "for idx in range(len(np.unique(X_data[:,2]))):\n",
    "    label='work_flow_'+str(idx)\n",
    "    ax2.scatter(true_ii[idx], true_ii[idx]-pred_ii[idx][0],label=label)\n",
    "plt.xlabel('Predictions')\n",
    "plt.ylabel('Residual')\n",
    "plt.title('Residual vs True')\n",
    "plt.legend()\n",
    "plt.show()\n",
    "    \n",
    "    \n",
    "plt.scatter(y_pred_all,y_data,label='All workflows')\n",
    "plt.xlabel('Predictions')\n",
    "plt.ylabel('Truth')\n",
    "plt.title('Question 2di')\n",
    "plt.legend()\n",
    "plt.show()\n",
    "\n",
    "plt.scatter(y_data,y_data-y_pred_all,label='All workflows')\n",
    "plt.ylabel('Residuals')\n",
    "plt.xlabel('Truth')\n",
    "plt.title('Question 2di')\n",
    "plt.legend()\n",
    "plt.show()\n",
    "\n",
    "print('It looks better with indivual work flows but the residuals still look pretty much the same?')"
   ]
  },
  {
   "cell_type": "code",
   "execution_count": 62,
   "metadata": {},
   "outputs": [
    {
     "name": "stdout",
     "output_type": "stream",
     "text": [
      "Averarge RMSE on Train dataset:  [0.0, 0.032541161208775975, 0.03231514285298265, 0.033224125182415486, 0.039147175675480636, 0.04425601603255141, 0.04767293129555654, 0.05016294510679429, 0.05200975061641348, 0.05375712705574733, 0.05504509835873742, 0.056993432078291585, 0.0585027623125278, 0.059613807196396355, 0.06067726491736028]\n",
      "Averarge RMSE on Test dataset: [0.020880712383796674, 0.03929454296108562, 0.041518307486868175, 0.04928439067135624, 0.05454849744272184, 0.05701673242530235, 0.05891371289412102, 0.0598019518006696, 0.06089835743734348, 0.061081038240735165, 0.061213067291675236, 0.061403025643797494, 0.061405164611773345, 0.06150913004452763, 0.06179169903710062]\n"
     ]
    }
   ],
   "source": [
    "#QUESTION 2e\n",
    "from sklearn import neighbors\n",
    "\n",
    "knn_train_rmse_list=[]\n",
    "knn_test_rmse_list=[]\n",
    "for n_neighbors in range(1,30,2):\n",
    "    knn = neighbors.KNeighborsRegressor(n_neighbors)\n",
    "    \n",
    "    knn_cv_results = cross_validate(knn, X_data, y_data, cv=10,\n",
    "                    scoring='neg_mean_squared_error', return_train_score=True)\n",
    "\n",
    "    knn_train_mse = -knn_cv_results['train_score']\n",
    "    knn_test_mse = -knn_cv_results['test_score']\n",
    "\n",
    "    knn_train_rmse_list.append(np.sqrt(np.mean(knn_train_mse)))\n",
    "    knn_test_rmse_list.append(np.sqrt(np.mean(knn_test_mse)))\n",
    "    \n",
    "print('Averarge RMSE on Train dataset: ', knn_train_rmse_list)\n",
    "print('Averarge RMSE on Test dataset:',knn_test_rmse_list)"
   ]
  },
  {
   "cell_type": "code",
   "execution_count": 63,
   "metadata": {},
   "outputs": [
    {
     "data": {
      "image/png": "[encoded data removed]",
      "text/plain": [
       "<Figure size 432x288 with 1 Axes>"
      ]
     },
     "metadata": {
      "needs_background": "light"
     },
     "output_type": "display_data"
    },
    {
     "data": {
      "image/png": "[encoded data removed]",
      "text/plain": [
       "<Figure size 432x288 with 1 Axes>"
      ]
     },
     "metadata": {
      "needs_background": "light"
     },
     "output_type": "display_data"
    }
   ],
   "source": [
    "plt.plot(np.arange(1,30,2),knn_train_rmse_list)\n",
    "plt.xlabel('number of clusters')\n",
    "plt.ylabel('train mean square error')\n",
    "plt.title('Question 3e')\n",
    "plt.show()\n",
    "\n",
    "plt.plot(np.arange(1,30,2),knn_test_rmse_list)\n",
    "plt.xlabel('number of clusters')\n",
    "plt.title('Question 3e')\n",
    "plt.ylabel('test mean square error')\n",
    "plt.show()"
   ]
  },
  {
   "cell_type": "code",
   "execution_count": 64,
   "metadata": {},
   "outputs": [],
   "source": [
    "k_best=1\n",
    "\n",
    "knn = neighbors.KNeighborsRegressor(k_best)\n",
    "y_pred = knn.fit(X_data, y_data).predict(X_data)"
   ]
  },
  {
   "cell_type": "code",
   "execution_count": 65,
   "metadata": {},
   "outputs": [
    {
     "data": {
      "image/png": "[encoded data removed]",
      "text/plain": [
       "<Figure size 432x288 with 1 Axes>"
      ]
     },
     "metadata": {
      "needs_background": "light"
     },
     "output_type": "display_data"
    }
   ],
   "source": [
    "plt.scatter(np.arange(len(y_data)),y_data,label='true data')\n",
    "plt.plot(np.arange(len(y_data)),y_pred,'k-',label='predicted data')\n",
    "plt.xlabel('Predictions')\n",
    "plt.ylabel('Truth')\n",
    "plt.title('Question 2di')\n",
    "plt.legend()\n",
    "plt.show()"
   ]
  },
  {
   "cell_type": "code",
   "execution_count": 66,
   "metadata": {},
   "outputs": [
    {
     "data": {
      "image/png": "[encoded data removed]",
      "text/plain": [
       "<Figure size 432x288 with 1 Axes>"
      ]
     },
     "metadata": {
      "needs_background": "light"
     },
     "output_type": "display_data"
    },
    {
     "data": {
      "image/png": "[encoded data removed]",
      "text/plain": [
       "<Figure size 432x288 with 1 Axes>"
      ]
     },
     "metadata": {
      "needs_background": "light"
     },
     "output_type": "display_data"
    }
   ],
   "source": [
    "plt.scatter(y_pred,y_data)\n",
    "plt.xlabel('Predictions')\n",
    "plt.ylabel('Truth')\n",
    "plt.title('Question 2di')\n",
    "plt.show()\n",
    "\n",
    "plt.scatter(y_data,y_data-y_pred)\n",
    "plt.ylabel('Residuals')\n",
    "plt.xlabel('Truth')\n",
    "plt.title('Question 2di')\n",
    "plt.show()\n",
    "\n"
   ]
  },
  {
   "cell_type": "markdown",
   "metadata": {},
   "source": [
    "### Question 3"
   ]
  },
  {
   "cell_type": "code",
   "execution_count": null,
   "metadata": {},
   "outputs": [],
   "source": [
    "#why on earth did kmeans do so well"
   ]
  },
  {
   "cell_type": "code",
   "execution_count": null,
   "metadata": {},
   "outputs": [],
   "source": []
  },
  {
   "cell_type": "code",
   "execution_count": null,
   "metadata": {},
   "outputs": [],
   "source": []
  },
  {
   "cell_type": "code",
   "execution_count": null,
   "metadata": {},
   "outputs": [],
   "source": []
  },
  {
   "cell_type": "code",
   "execution_count": null,
   "metadata": {},
   "outputs": [],
   "source": []
  },
  {
   "cell_type": "code",
   "execution_count": null,
   "metadata": {},
   "outputs": [],
   "source": []
  },
  {
   "cell_type": "code",
   "execution_count": null,
   "metadata": {},
   "outputs": [],
   "source": []
  },
  {
   "cell_type": "code",
   "execution_count": null,
   "metadata": {},
   "outputs": [],
   "source": []
  },
  {
   "cell_type": "code",
   "execution_count": null,
   "metadata": {},
   "outputs": [],
   "source": []
  }
 ],
 "metadata": {
  "kernelspec": {
   "display_name": "Python 3",
   "language": "python",
   "name": "python3"
  },
  "language_info": {
   "codemirror_mode": {
    "name": "ipython",
    "version": 3
   },
   "file_extension": ".py",
   "mimetype": "text/x-python",
   "name": "python",
   "nbconvert_exporter": "python",
   "pygments_lexer": "ipython3",
   "version": "3.7.1"
  }
 },
 "nbformat": 4,
 "nbformat_minor": 2
}
